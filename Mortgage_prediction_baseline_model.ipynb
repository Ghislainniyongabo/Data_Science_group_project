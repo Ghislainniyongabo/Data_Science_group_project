{
  "nbformat": 4,
  "nbformat_minor": 0,
  "metadata": {
    "kernelspec": {
      "display_name": "Python 3",
      "language": "python",
      "name": "python3"
    },
    "language_info": {
      "codemirror_mode": {
        "name": "ipython",
        "version": 3
      },
      "file_extension": ".py",
      "mimetype": "text/x-python",
      "name": "python",
      "nbconvert_exporter": "python",
      "pygments_lexer": "ipython3",
      "version": "3.7.3"
    },
    "colab": {
      "name": "Mortgage_prediction_baseline_model.ipynb",
      "provenance": [],
      "include_colab_link": true
    }
  },
  "cells": [
    {
      "cell_type": "markdown",
      "metadata": {
        "id": "view-in-github",
        "colab_type": "text"
      },
      "source": [
        "<a href=\"https://colab.research.google.com/github/Ghislainniyongabo/Data_Science_group_project/blob/master/Mortgage_prediction_baseline_model.ipynb\" target=\"_parent\"><img src=\"https://colab.research.google.com/assets/colab-badge.svg\" alt=\"Open In Colab\"/></a>"
      ]
    },
    {
      "cell_type": "markdown",
      "metadata": {
        "id": "zxwg02Hzg8C2",
        "colab_type": "text"
      },
      "source": [
        "## Group Assignment Data\n",
        "\n",
        "Joseph Owuor Owino (josephowino@aims.ac.za)\n",
        "\n",
        "Linda Agyapomah Agyare (lindaagyapomah@aims.ac.za)\n",
        "\n",
        "Nedjla Tazdait (nedjla@aims.ac.za)\n",
        "\n",
        "Roger Jeasy Bavibidila (roger@aims.ac.za)\n",
        "\n",
        "Sitraka Nandrianina Tolojanahary (sitraka@aims.ac.za)\n",
        "\n",
        "Ghislain Niyongabo (ghislainniyongabo@aims.ac.za)"
      ]
    },
    {
      "cell_type": "markdown",
      "metadata": {
        "id": "oephdbT8g8C8",
        "colab_type": "text"
      },
      "source": [
        "### Mortgage Dataset:\n",
        "\n",
        "We worked on the Mortagage Approval Dataset. The goal of this problem is to predict whether a mortagage application will be accepted or denied according to some factors depending on both the lender and the applicant. Some of these factors are loan amount, loan type, loan purpose, occupancy, amongst others. In all there are 21 feature variables and two outputs (i.e whether an application was accepted or denied) and hence this is a binary classifiaction Problem.\n",
        "\n",
        "We obtained the dataset from Fedral Financial Instituitions Examination Council's(FFIEC). The Council is a formal interagency body empowered to prescribe uniform principles, standards, and report forms for the federal examination of financial institutions by the Board of Governors of the Federal Reserve System (FRB), the Federal Deposit Insurance Corporation (FDIC), the National Credit Union Administration (NCUA), the Office of the Comptroller of the Currency (OCC), and the Consumer Financial Protection Bureau (CFPB), and to make recommendations to promote uniformity in the supervision of financial institutions. \n",
        "\n",
        "The data being used in the problem is used to determine if is to predict whether a mortagage application will be accepted or denied. \n",
        "\n",
        "The dataset has two different tables including \"Features\" table and \"Target or labels\" table.\n"
      ]
    },
    {
      "cell_type": "markdown",
      "metadata": {
        "id": "jQcgusslg8DA",
        "colab_type": "text"
      },
      "source": [
        "# Logistic Regreesion Model"
      ]
    },
    {
      "cell_type": "markdown",
      "metadata": {
        "id": "UDu9PX0Mg8DC",
        "colab_type": "text"
      },
      "source": [
        "Logistic regression is a linear model but with a nonlinear response. The response is binary, $\\{ 0,1 \\}$, or positive and negative. The response is the prediction of the category. Our target variable is composed by two unique classes reason why we are dealing with binary classification and logistic regression was chosen for this problem .\n",
        "\n",
        "Properties of Logistic Regression:\n",
        "\n",
        "$\\bullet$ The dependent variable in logistic regression follows Bernoulli Distribution.\n",
        "\n",
        "$\\bullet$ Estimation is done through maximum likelihood.\n",
        "\n",
        "$\\bullet$ No R Square, Model fitness is calculated through Concordance, KS-Statistics.\n",
        "\n",
        "In this notebook report we will discuss the following: \n",
        "-  Data preparation and preprocessing using scikit-learn.\n",
        "-  The underpinning mathematics behind Logistic regression model (This was incorporated in this notebook and done at most of the important steps if the  model ).\n",
        "-  Construction of a Logistic regression model using scikit-learn.\n",
        "-  Evaluating the performance of the Logistic regression model. \n",
        "-  Using techniques such as reweighting the labels and changing the decision threshold to change the trade-off b      between false positive and false negative error rates. "
      ]
    },
    {
      "cell_type": "markdown",
      "metadata": {
        "id": "H9J_F97Cg8DE",
        "colab_type": "text"
      },
      "source": [
        "# Import libraries"
      ]
    },
    {
      "cell_type": "code",
      "metadata": {
        "id": "3qMFP3gMg8DI",
        "colab_type": "code",
        "colab": {}
      },
      "source": [
        "#import pandas as pd\n",
        "#import matplotlib.pyplot as plt\n",
        "import seaborn as sns\n",
        "\n",
        "import numpy.random as nr\n",
        "import math\n",
        "from sklearn import preprocessing\n",
        "import sklearn.model_selection as ms\n",
        "from sklearn import linear_model\n",
        "import sklearn.metrics as sklm\n",
        "import sklearn\n",
        "from keras.models import Sequential # # This indicate that whene adding addition layers, the sequence should go from the left to the right\n",
        "from keras.layers import Dense # This enable the full connected layers\n",
        "import numpy as np  # Import numpy libraries \n",
        "import matplotlib.pyplot as plt # For ploting the performance\n",
        "from keras.utils import np_utils  # This a keras library which enables the one hot encoding\n",
        "from sklearn.metrics import accuracy_score, confusion_matrix  # a sklearn functions that enables the computation of the accuracy and the plotting of the confusion matrix\n",
        "from sklearn.model_selection import train_test_split  # This a function that enables to split the dataset into separate data such as training, validation and test data\n",
        "from keras.utils import to_categorical # to_categorical is used to convert array of labeled data(from 0 to nb_classes-1) to one-hot vector\n",
        "from sklearn.preprocessing import StandardScaler # This a function used in scaling the data\n",
        "from sklearn.preprocessing import LabelEncoder #for encoding the levels of categorical features into numeric values\n",
        "import pandas as pd # Python library for data analysis\n",
        "from sklearn import preprocessing\n",
        "\n",
        "from keras.models import model_from_json\n",
        "\n",
        "%matplotlib inline\n",
        "\n",
        "%tensorflow_version 1.x"
      ],
      "execution_count": 0,
      "outputs": []
    },
    {
      "cell_type": "code",
      "metadata": {
        "id": "gd8EjMhhhTg2",
        "colab_type": "code",
        "colab": {}
      },
      "source": [
        "!pip install -U -q PyDrive\n",
        "from pydrive.auth import GoogleAuth\n",
        "from pydrive.drive import GoogleDrive\n",
        "from google.colab import auth\n",
        "from oauth2client.client import GoogleCredentials# Authenticate and create the PyDrive client.\n",
        "auth.authenticate_user()\n",
        "gauth = GoogleAuth()\n",
        "gauth.credentials = GoogleCredentials.get_application_default()\n",
        "drive = GoogleDrive(gauth)"
      ],
      "execution_count": 0,
      "outputs": []
    },
    {
      "cell_type": "code",
      "metadata": {
        "id": "QbDJK3AKiAeR",
        "colab_type": "code",
        "colab": {}
      },
      "source": [
        "link1='https://drive.google.com/open?id=1JrPu5ulLN_wr_CoS7XiJxcz9-OMiJ20L'"
      ],
      "execution_count": 0,
      "outputs": []
    },
    {
      "cell_type": "code",
      "metadata": {
        "id": "qBLVo41Uinsg",
        "colab_type": "code",
        "outputId": "ad6e9027-efa8-44ba-cca6-3fe5ea4ca0c3",
        "colab": {
          "base_uri": "https://localhost:8080/",
          "height": 34
        }
      },
      "source": [
        "fluff, id1 = link1.split('=')\n",
        "print (id1) # Verify that you have everything after '='"
      ],
      "execution_count": 0,
      "outputs": [
        {
          "output_type": "stream",
          "text": [
            "1JrPu5ulLN_wr_CoS7XiJxcz9-OMiJ20L\n"
          ],
          "name": "stdout"
        }
      ]
    },
    {
      "cell_type": "code",
      "metadata": {
        "colab_type": "code",
        "id": "6p3D_smcjV2Q",
        "colab": {}
      },
      "source": [
        "link2='https://drive.google.com/open?id=1aqIWGFsf6PXXGxXxRLx_NyvSQg_AUzVs'"
      ],
      "execution_count": 0,
      "outputs": []
    },
    {
      "cell_type": "code",
      "metadata": {
        "colab_type": "code",
        "outputId": "f0419301-a27f-41af-c868-7f26006da3f7",
        "id": "qSSu3iEKjXtD",
        "colab": {
          "base_uri": "https://localhost:8080/",
          "height": 34
        }
      },
      "source": [
        "fluff, id2 = link2.split('=')\n",
        "print (id2) # Verify that you have everything after '='"
      ],
      "execution_count": 0,
      "outputs": [
        {
          "output_type": "stream",
          "text": [
            "1aqIWGFsf6PXXGxXxRLx_NyvSQg_AUzVs\n"
          ],
          "name": "stdout"
        }
      ]
    },
    {
      "cell_type": "code",
      "metadata": {
        "id": "_xOf4SBvi7lh",
        "colab_type": "code",
        "colab": {}
      },
      "source": [
        ""
      ],
      "execution_count": 0,
      "outputs": []
    },
    {
      "cell_type": "code",
      "metadata": {
        "id": "Mj5fj-oKjCaG",
        "colab_type": "code",
        "colab": {}
      },
      "source": [
        ""
      ],
      "execution_count": 0,
      "outputs": []
    },
    {
      "cell_type": "markdown",
      "metadata": {
        "id": "4z-E6tKog8DS",
        "colab_type": "text"
      },
      "source": [
        ""
      ]
    },
    {
      "cell_type": "markdown",
      "metadata": {
        "id": "NnNPa2mZg8DS",
        "colab_type": "text"
      },
      "source": [
        "### We now  load and prepare the dataset."
      ]
    },
    {
      "cell_type": "code",
      "metadata": {
        "id": "1SKi90gHg8DU",
        "colab_type": "code",
        "colab": {}
      },
      "source": [
        "downloaded1 = drive.CreateFile({'id':id1}) \n",
        "downloaded1.GetContentFile('Filename.csv')  \n",
        "dataset1 = pd.read_csv('Filename.csv')\n",
        "\n",
        "downloaded2 = drive.CreateFile({'id':id2}) \n",
        "downloaded2.GetContentFile('Filename.csv')  \n",
        "dataset = pd.read_csv('Filename.csv')\n",
        "#dataset1=pd.read_csv(\"mortgage-loan-approval/train_labels.csv\") "
      ],
      "execution_count": 0,
      "outputs": []
    },
    {
      "cell_type": "code",
      "metadata": {
        "id": "y900mYIlg8Db",
        "colab_type": "code",
        "outputId": "cc66a0c3-f58a-417c-81ef-6bbf3e963312",
        "colab": {
          "base_uri": "https://localhost:8080/",
          "height": 34
        }
      },
      "source": [
        "dataset1.shape  # excluding the id column"
      ],
      "execution_count": 0,
      "outputs": [
        {
          "output_type": "execute_result",
          "data": {
            "text/plain": [
              "(500000, 2)"
            ]
          },
          "metadata": {
            "tags": []
          },
          "execution_count": 33
        }
      ]
    },
    {
      "cell_type": "code",
      "metadata": {
        "id": "YvX3AEPkg8Dg",
        "colab_type": "code",
        "outputId": "b36d36ac-ebb8-4c07-d0c9-db1e764578ee",
        "colab": {
          "base_uri": "https://localhost:8080/",
          "height": 34
        }
      },
      "source": [
        "dataset.shape"
      ],
      "execution_count": 0,
      "outputs": [
        {
          "output_type": "execute_result",
          "data": {
            "text/plain": [
              "(500000, 22)"
            ]
          },
          "metadata": {
            "tags": []
          },
          "execution_count": 34
        }
      ]
    },
    {
      "cell_type": "markdown",
      "metadata": {
        "id": "Z3nRynzMg8Dn",
        "colab_type": "text"
      },
      "source": [
        "## View the feature table"
      ]
    },
    {
      "cell_type": "code",
      "metadata": {
        "id": "PEtMQxyHg8Dp",
        "colab_type": "code",
        "outputId": "a3a197f8-d5c6-4934-8267-9e1f423dfec7",
        "colab": {
          "base_uri": "https://localhost:8080/",
          "height": 244
        }
      },
      "source": [
        "dataset.head()"
      ],
      "execution_count": 0,
      "outputs": [
        {
          "output_type": "execute_result",
          "data": {
            "text/html": [
              "<div>\n",
              "<style scoped>\n",
              "    .dataframe tbody tr th:only-of-type {\n",
              "        vertical-align: middle;\n",
              "    }\n",
              "\n",
              "    .dataframe tbody tr th {\n",
              "        vertical-align: top;\n",
              "    }\n",
              "\n",
              "    .dataframe thead th {\n",
              "        text-align: right;\n",
              "    }\n",
              "</style>\n",
              "<table border=\"1\" class=\"dataframe\">\n",
              "  <thead>\n",
              "    <tr style=\"text-align: right;\">\n",
              "      <th></th>\n",
              "      <th>row_id</th>\n",
              "      <th>loan_type</th>\n",
              "      <th>property_type</th>\n",
              "      <th>loan_purpose</th>\n",
              "      <th>occupancy</th>\n",
              "      <th>loan_amount</th>\n",
              "      <th>preapproval</th>\n",
              "      <th>msa_md</th>\n",
              "      <th>state_code</th>\n",
              "      <th>county_code</th>\n",
              "      <th>applicant_ethnicity</th>\n",
              "      <th>applicant_race</th>\n",
              "      <th>applicant_sex</th>\n",
              "      <th>applicant_income</th>\n",
              "      <th>population</th>\n",
              "      <th>minority_population_pct</th>\n",
              "      <th>ffiecmedian_family_income</th>\n",
              "      <th>tract_to_msa_md_income_pct</th>\n",
              "      <th>number_of_owner-occupied_units</th>\n",
              "      <th>number_of_1_to_4_family_units</th>\n",
              "      <th>lender</th>\n",
              "      <th>co_applicant</th>\n",
              "    </tr>\n",
              "  </thead>\n",
              "  <tbody>\n",
              "    <tr>\n",
              "      <th>0</th>\n",
              "      <td>0</td>\n",
              "      <td>3</td>\n",
              "      <td>1</td>\n",
              "      <td>1</td>\n",
              "      <td>1</td>\n",
              "      <td>70.0</td>\n",
              "      <td>3</td>\n",
              "      <td>18</td>\n",
              "      <td>37</td>\n",
              "      <td>246</td>\n",
              "      <td>2</td>\n",
              "      <td>5</td>\n",
              "      <td>1</td>\n",
              "      <td>24.0</td>\n",
              "      <td>6203.0</td>\n",
              "      <td>44.230</td>\n",
              "      <td>60588.0</td>\n",
              "      <td>50.933</td>\n",
              "      <td>716.0</td>\n",
              "      <td>2642.0</td>\n",
              "      <td>4536</td>\n",
              "      <td>False</td>\n",
              "    </tr>\n",
              "    <tr>\n",
              "      <th>1</th>\n",
              "      <td>1</td>\n",
              "      <td>1</td>\n",
              "      <td>1</td>\n",
              "      <td>3</td>\n",
              "      <td>1</td>\n",
              "      <td>178.0</td>\n",
              "      <td>3</td>\n",
              "      <td>369</td>\n",
              "      <td>52</td>\n",
              "      <td>299</td>\n",
              "      <td>1</td>\n",
              "      <td>5</td>\n",
              "      <td>1</td>\n",
              "      <td>57.0</td>\n",
              "      <td>5774.0</td>\n",
              "      <td>15.905</td>\n",
              "      <td>54821.0</td>\n",
              "      <td>100.000</td>\n",
              "      <td>1622.0</td>\n",
              "      <td>2108.0</td>\n",
              "      <td>2458</td>\n",
              "      <td>False</td>\n",
              "    </tr>\n",
              "    <tr>\n",
              "      <th>2</th>\n",
              "      <td>2</td>\n",
              "      <td>2</td>\n",
              "      <td>1</td>\n",
              "      <td>3</td>\n",
              "      <td>1</td>\n",
              "      <td>163.0</td>\n",
              "      <td>3</td>\n",
              "      <td>16</td>\n",
              "      <td>10</td>\n",
              "      <td>306</td>\n",
              "      <td>2</td>\n",
              "      <td>5</td>\n",
              "      <td>1</td>\n",
              "      <td>67.0</td>\n",
              "      <td>6094.0</td>\n",
              "      <td>61.270</td>\n",
              "      <td>67719.0</td>\n",
              "      <td>100.000</td>\n",
              "      <td>760.0</td>\n",
              "      <td>1048.0</td>\n",
              "      <td>5710</td>\n",
              "      <td>False</td>\n",
              "    </tr>\n",
              "    <tr>\n",
              "      <th>3</th>\n",
              "      <td>3</td>\n",
              "      <td>1</td>\n",
              "      <td>1</td>\n",
              "      <td>1</td>\n",
              "      <td>1</td>\n",
              "      <td>155.0</td>\n",
              "      <td>1</td>\n",
              "      <td>305</td>\n",
              "      <td>47</td>\n",
              "      <td>180</td>\n",
              "      <td>2</td>\n",
              "      <td>5</td>\n",
              "      <td>1</td>\n",
              "      <td>105.0</td>\n",
              "      <td>6667.0</td>\n",
              "      <td>6.246</td>\n",
              "      <td>78439.0</td>\n",
              "      <td>100.000</td>\n",
              "      <td>2025.0</td>\n",
              "      <td>2299.0</td>\n",
              "      <td>5888</td>\n",
              "      <td>True</td>\n",
              "    </tr>\n",
              "    <tr>\n",
              "      <th>4</th>\n",
              "      <td>4</td>\n",
              "      <td>1</td>\n",
              "      <td>1</td>\n",
              "      <td>1</td>\n",
              "      <td>1</td>\n",
              "      <td>305.0</td>\n",
              "      <td>3</td>\n",
              "      <td>24</td>\n",
              "      <td>37</td>\n",
              "      <td>20</td>\n",
              "      <td>2</td>\n",
              "      <td>3</td>\n",
              "      <td>2</td>\n",
              "      <td>71.0</td>\n",
              "      <td>6732.0</td>\n",
              "      <td>100.000</td>\n",
              "      <td>63075.0</td>\n",
              "      <td>82.200</td>\n",
              "      <td>1464.0</td>\n",
              "      <td>1847.0</td>\n",
              "      <td>289</td>\n",
              "      <td>False</td>\n",
              "    </tr>\n",
              "  </tbody>\n",
              "</table>\n",
              "</div>"
            ],
            "text/plain": [
              "   row_id  loan_type  ...  lender  co_applicant\n",
              "0       0          3  ...    4536         False\n",
              "1       1          1  ...    2458         False\n",
              "2       2          2  ...    5710         False\n",
              "3       3          1  ...    5888          True\n",
              "4       4          1  ...     289         False\n",
              "\n",
              "[5 rows x 22 columns]"
            ]
          },
          "metadata": {
            "tags": []
          },
          "execution_count": 35
        }
      ]
    },
    {
      "cell_type": "markdown",
      "metadata": {
        "id": "tbFu5Ia7g8Dw",
        "colab_type": "text"
      },
      "source": [
        "# Viewing the labels"
      ]
    },
    {
      "cell_type": "code",
      "metadata": {
        "id": "vHYPxZHpg8Dy",
        "colab_type": "code",
        "outputId": "a332d409-e9f9-4a80-a294-1941e61d5f0f",
        "colab": {
          "base_uri": "https://localhost:8080/",
          "height": 206
        }
      },
      "source": [
        "dataset1.head()"
      ],
      "execution_count": 0,
      "outputs": [
        {
          "output_type": "execute_result",
          "data": {
            "text/html": [
              "<div>\n",
              "<style scoped>\n",
              "    .dataframe tbody tr th:only-of-type {\n",
              "        vertical-align: middle;\n",
              "    }\n",
              "\n",
              "    .dataframe tbody tr th {\n",
              "        vertical-align: top;\n",
              "    }\n",
              "\n",
              "    .dataframe thead th {\n",
              "        text-align: right;\n",
              "    }\n",
              "</style>\n",
              "<table border=\"1\" class=\"dataframe\">\n",
              "  <thead>\n",
              "    <tr style=\"text-align: right;\">\n",
              "      <th></th>\n",
              "      <th>row_id</th>\n",
              "      <th>accepted</th>\n",
              "    </tr>\n",
              "  </thead>\n",
              "  <tbody>\n",
              "    <tr>\n",
              "      <th>0</th>\n",
              "      <td>0</td>\n",
              "      <td>1</td>\n",
              "    </tr>\n",
              "    <tr>\n",
              "      <th>1</th>\n",
              "      <td>1</td>\n",
              "      <td>0</td>\n",
              "    </tr>\n",
              "    <tr>\n",
              "      <th>2</th>\n",
              "      <td>2</td>\n",
              "      <td>1</td>\n",
              "    </tr>\n",
              "    <tr>\n",
              "      <th>3</th>\n",
              "      <td>3</td>\n",
              "      <td>1</td>\n",
              "    </tr>\n",
              "    <tr>\n",
              "      <th>4</th>\n",
              "      <td>4</td>\n",
              "      <td>1</td>\n",
              "    </tr>\n",
              "  </tbody>\n",
              "</table>\n",
              "</div>"
            ],
            "text/plain": [
              "   row_id  accepted\n",
              "0       0         1\n",
              "1       1         0\n",
              "2       2         1\n",
              "3       3         1\n",
              "4       4         1"
            ]
          },
          "metadata": {
            "tags": []
          },
          "execution_count": 36
        }
      ]
    },
    {
      "cell_type": "code",
      "metadata": {
        "id": "FGzutvvIg8D3",
        "colab_type": "code",
        "outputId": "991c4963-b5b8-48ba-8439-2ca2a02f4adb",
        "colab": {
          "base_uri": "https://localhost:8080/",
          "height": 156
        }
      },
      "source": [
        "dataset.columns"
      ],
      "execution_count": 0,
      "outputs": [
        {
          "output_type": "execute_result",
          "data": {
            "text/plain": [
              "Index(['row_id', 'loan_type', 'property_type', 'loan_purpose', 'occupancy',\n",
              "       'loan_amount', 'preapproval', 'msa_md', 'state_code', 'county_code',\n",
              "       'applicant_ethnicity', 'applicant_race', 'applicant_sex',\n",
              "       'applicant_income', 'population', 'minority_population_pct',\n",
              "       'ffiecmedian_family_income', 'tract_to_msa_md_income_pct',\n",
              "       'number_of_owner-occupied_units', 'number_of_1_to_4_family_units',\n",
              "       'lender', 'co_applicant'],\n",
              "      dtype='object')"
            ]
          },
          "metadata": {
            "tags": []
          },
          "execution_count": 37
        }
      ]
    },
    {
      "cell_type": "code",
      "metadata": {
        "id": "bBlFJ1p7g8ED",
        "colab_type": "code",
        "colab": {}
      },
      "source": [
        ""
      ],
      "execution_count": 0,
      "outputs": []
    },
    {
      "cell_type": "code",
      "metadata": {
        "id": "OdGaxok5g8EJ",
        "colab_type": "code",
        "outputId": "2f59b650-b1ee-4370-f734-fa83505c7985",
        "colab": {
          "base_uri": "https://localhost:8080/",
          "height": 34
        }
      },
      "source": [
        "dataset['property_type'].unique()"
      ],
      "execution_count": 0,
      "outputs": [
        {
          "output_type": "execute_result",
          "data": {
            "text/plain": [
              "array([1, 2, 3])"
            ]
          },
          "metadata": {
            "tags": []
          },
          "execution_count": 38
        }
      ]
    },
    {
      "cell_type": "markdown",
      "metadata": {
        "id": "UBxrSghQg8EN",
        "colab_type": "text"
      },
      "source": [
        "### checking the number of missing values"
      ]
    },
    {
      "cell_type": "code",
      "metadata": {
        "id": "hDGXUcZBg8EP",
        "colab_type": "code",
        "outputId": "59bf07e9-149c-4288-8189-96fd1440f2e7",
        "colab": {
          "base_uri": "https://localhost:8080/",
          "height": 69
        }
      },
      "source": [
        "dataset1.isnull().sum() "
      ],
      "execution_count": 0,
      "outputs": [
        {
          "output_type": "execute_result",
          "data": {
            "text/plain": [
              "row_id      0\n",
              "accepted    0\n",
              "dtype: int64"
            ]
          },
          "metadata": {
            "tags": []
          },
          "execution_count": 39
        }
      ]
    },
    {
      "cell_type": "code",
      "metadata": {
        "id": "uJmMfcJFg8EU",
        "colab_type": "code",
        "colab": {}
      },
      "source": [
        "target=dataset1['accepted']"
      ],
      "execution_count": 0,
      "outputs": []
    },
    {
      "cell_type": "code",
      "metadata": {
        "id": "eK1r7rung8Ea",
        "colab_type": "code",
        "outputId": "2fd3749f-e763-455e-9cb4-f4b6df8db2a0",
        "colab": {
          "base_uri": "https://localhost:8080/",
          "height": 121
        }
      },
      "source": [
        "target.head()"
      ],
      "execution_count": 0,
      "outputs": [
        {
          "output_type": "execute_result",
          "data": {
            "text/plain": [
              "0    1\n",
              "1    0\n",
              "2    1\n",
              "3    1\n",
              "4    1\n",
              "Name: accepted, dtype: int64"
            ]
          },
          "metadata": {
            "tags": []
          },
          "execution_count": 41
        }
      ]
    },
    {
      "cell_type": "markdown",
      "metadata": {
        "id": "80AT0n7vg8Eg",
        "colab_type": "text"
      },
      "source": [
        "## Merging the features and the target in one dataset "
      ]
    },
    {
      "cell_type": "code",
      "metadata": {
        "id": "TgtGtSkRg8Eh",
        "colab_type": "code",
        "colab": {}
      },
      "source": [
        "dataset['accepted']=target"
      ],
      "execution_count": 0,
      "outputs": []
    },
    {
      "cell_type": "code",
      "metadata": {
        "id": "M5JZX9XLg8El",
        "colab_type": "code",
        "outputId": "926543fc-3c75-4f76-f030-34c9790e2616",
        "colab": {
          "base_uri": "https://localhost:8080/",
          "height": 244
        }
      },
      "source": [
        "dataset.head()"
      ],
      "execution_count": 0,
      "outputs": [
        {
          "output_type": "execute_result",
          "data": {
            "text/html": [
              "<div>\n",
              "<style scoped>\n",
              "    .dataframe tbody tr th:only-of-type {\n",
              "        vertical-align: middle;\n",
              "    }\n",
              "\n",
              "    .dataframe tbody tr th {\n",
              "        vertical-align: top;\n",
              "    }\n",
              "\n",
              "    .dataframe thead th {\n",
              "        text-align: right;\n",
              "    }\n",
              "</style>\n",
              "<table border=\"1\" class=\"dataframe\">\n",
              "  <thead>\n",
              "    <tr style=\"text-align: right;\">\n",
              "      <th></th>\n",
              "      <th>row_id</th>\n",
              "      <th>loan_type</th>\n",
              "      <th>property_type</th>\n",
              "      <th>loan_purpose</th>\n",
              "      <th>occupancy</th>\n",
              "      <th>loan_amount</th>\n",
              "      <th>preapproval</th>\n",
              "      <th>msa_md</th>\n",
              "      <th>state_code</th>\n",
              "      <th>county_code</th>\n",
              "      <th>applicant_ethnicity</th>\n",
              "      <th>applicant_race</th>\n",
              "      <th>applicant_sex</th>\n",
              "      <th>applicant_income</th>\n",
              "      <th>population</th>\n",
              "      <th>minority_population_pct</th>\n",
              "      <th>ffiecmedian_family_income</th>\n",
              "      <th>tract_to_msa_md_income_pct</th>\n",
              "      <th>number_of_owner-occupied_units</th>\n",
              "      <th>number_of_1_to_4_family_units</th>\n",
              "      <th>lender</th>\n",
              "      <th>co_applicant</th>\n",
              "      <th>accepted</th>\n",
              "    </tr>\n",
              "  </thead>\n",
              "  <tbody>\n",
              "    <tr>\n",
              "      <th>0</th>\n",
              "      <td>0</td>\n",
              "      <td>3</td>\n",
              "      <td>1</td>\n",
              "      <td>1</td>\n",
              "      <td>1</td>\n",
              "      <td>70.0</td>\n",
              "      <td>3</td>\n",
              "      <td>18</td>\n",
              "      <td>37</td>\n",
              "      <td>246</td>\n",
              "      <td>2</td>\n",
              "      <td>5</td>\n",
              "      <td>1</td>\n",
              "      <td>24.0</td>\n",
              "      <td>6203.0</td>\n",
              "      <td>44.230</td>\n",
              "      <td>60588.0</td>\n",
              "      <td>50.933</td>\n",
              "      <td>716.0</td>\n",
              "      <td>2642.0</td>\n",
              "      <td>4536</td>\n",
              "      <td>False</td>\n",
              "      <td>1</td>\n",
              "    </tr>\n",
              "    <tr>\n",
              "      <th>1</th>\n",
              "      <td>1</td>\n",
              "      <td>1</td>\n",
              "      <td>1</td>\n",
              "      <td>3</td>\n",
              "      <td>1</td>\n",
              "      <td>178.0</td>\n",
              "      <td>3</td>\n",
              "      <td>369</td>\n",
              "      <td>52</td>\n",
              "      <td>299</td>\n",
              "      <td>1</td>\n",
              "      <td>5</td>\n",
              "      <td>1</td>\n",
              "      <td>57.0</td>\n",
              "      <td>5774.0</td>\n",
              "      <td>15.905</td>\n",
              "      <td>54821.0</td>\n",
              "      <td>100.000</td>\n",
              "      <td>1622.0</td>\n",
              "      <td>2108.0</td>\n",
              "      <td>2458</td>\n",
              "      <td>False</td>\n",
              "      <td>0</td>\n",
              "    </tr>\n",
              "    <tr>\n",
              "      <th>2</th>\n",
              "      <td>2</td>\n",
              "      <td>2</td>\n",
              "      <td>1</td>\n",
              "      <td>3</td>\n",
              "      <td>1</td>\n",
              "      <td>163.0</td>\n",
              "      <td>3</td>\n",
              "      <td>16</td>\n",
              "      <td>10</td>\n",
              "      <td>306</td>\n",
              "      <td>2</td>\n",
              "      <td>5</td>\n",
              "      <td>1</td>\n",
              "      <td>67.0</td>\n",
              "      <td>6094.0</td>\n",
              "      <td>61.270</td>\n",
              "      <td>67719.0</td>\n",
              "      <td>100.000</td>\n",
              "      <td>760.0</td>\n",
              "      <td>1048.0</td>\n",
              "      <td>5710</td>\n",
              "      <td>False</td>\n",
              "      <td>1</td>\n",
              "    </tr>\n",
              "    <tr>\n",
              "      <th>3</th>\n",
              "      <td>3</td>\n",
              "      <td>1</td>\n",
              "      <td>1</td>\n",
              "      <td>1</td>\n",
              "      <td>1</td>\n",
              "      <td>155.0</td>\n",
              "      <td>1</td>\n",
              "      <td>305</td>\n",
              "      <td>47</td>\n",
              "      <td>180</td>\n",
              "      <td>2</td>\n",
              "      <td>5</td>\n",
              "      <td>1</td>\n",
              "      <td>105.0</td>\n",
              "      <td>6667.0</td>\n",
              "      <td>6.246</td>\n",
              "      <td>78439.0</td>\n",
              "      <td>100.000</td>\n",
              "      <td>2025.0</td>\n",
              "      <td>2299.0</td>\n",
              "      <td>5888</td>\n",
              "      <td>True</td>\n",
              "      <td>1</td>\n",
              "    </tr>\n",
              "    <tr>\n",
              "      <th>4</th>\n",
              "      <td>4</td>\n",
              "      <td>1</td>\n",
              "      <td>1</td>\n",
              "      <td>1</td>\n",
              "      <td>1</td>\n",
              "      <td>305.0</td>\n",
              "      <td>3</td>\n",
              "      <td>24</td>\n",
              "      <td>37</td>\n",
              "      <td>20</td>\n",
              "      <td>2</td>\n",
              "      <td>3</td>\n",
              "      <td>2</td>\n",
              "      <td>71.0</td>\n",
              "      <td>6732.0</td>\n",
              "      <td>100.000</td>\n",
              "      <td>63075.0</td>\n",
              "      <td>82.200</td>\n",
              "      <td>1464.0</td>\n",
              "      <td>1847.0</td>\n",
              "      <td>289</td>\n",
              "      <td>False</td>\n",
              "      <td>1</td>\n",
              "    </tr>\n",
              "  </tbody>\n",
              "</table>\n",
              "</div>"
            ],
            "text/plain": [
              "   row_id  loan_type  property_type  ...  lender  co_applicant  accepted\n",
              "0       0          3              1  ...    4536         False         1\n",
              "1       1          1              1  ...    2458         False         0\n",
              "2       2          2              1  ...    5710         False         1\n",
              "3       3          1              1  ...    5888          True         1\n",
              "4       4          1              1  ...     289         False         1\n",
              "\n",
              "[5 rows x 23 columns]"
            ]
          },
          "metadata": {
            "tags": []
          },
          "execution_count": 43
        }
      ]
    },
    {
      "cell_type": "code",
      "metadata": {
        "id": "hbsP1MBOg8Er",
        "colab_type": "code",
        "outputId": "99b110db-6a1c-4042-c03c-e523f3a836a8",
        "colab": {
          "base_uri": "https://localhost:8080/",
          "height": 34
        }
      },
      "source": [
        "dataset.shape"
      ],
      "execution_count": 0,
      "outputs": [
        {
          "output_type": "execute_result",
          "data": {
            "text/plain": [
              "(500000, 23)"
            ]
          },
          "metadata": {
            "tags": []
          },
          "execution_count": 44
        }
      ]
    },
    {
      "cell_type": "code",
      "metadata": {
        "id": "EgsGjLDAg8Ex",
        "colab_type": "code",
        "outputId": "9dbdfdad-22d5-4c78-8f98-5bf0bf0cad15",
        "colab": {
          "base_uri": "https://localhost:8080/",
          "height": 503
        }
      },
      "source": [
        "dataset.info()"
      ],
      "execution_count": 0,
      "outputs": [
        {
          "output_type": "stream",
          "text": [
            "<class 'pandas.core.frame.DataFrame'>\n",
            "RangeIndex: 500000 entries, 0 to 499999\n",
            "Data columns (total 23 columns):\n",
            "row_id                            500000 non-null int64\n",
            "loan_type                         500000 non-null int64\n",
            "property_type                     500000 non-null int64\n",
            "loan_purpose                      500000 non-null int64\n",
            "occupancy                         500000 non-null int64\n",
            "loan_amount                       500000 non-null float64\n",
            "preapproval                       500000 non-null int64\n",
            "msa_md                            500000 non-null int64\n",
            "state_code                        500000 non-null int64\n",
            "county_code                       500000 non-null int64\n",
            "applicant_ethnicity               500000 non-null int64\n",
            "applicant_race                    500000 non-null int64\n",
            "applicant_sex                     500000 non-null int64\n",
            "applicant_income                  460052 non-null float64\n",
            "population                        477535 non-null float64\n",
            "minority_population_pct           477534 non-null float64\n",
            "ffiecmedian_family_income         477560 non-null float64\n",
            "tract_to_msa_md_income_pct        477486 non-null float64\n",
            "number_of_owner-occupied_units    477435 non-null float64\n",
            "number_of_1_to_4_family_units     477470 non-null float64\n",
            "lender                            500000 non-null int64\n",
            "co_applicant                      500000 non-null bool\n",
            "accepted                          500000 non-null int64\n",
            "dtypes: bool(1), float64(8), int64(14)\n",
            "memory usage: 84.4 MB\n"
          ],
          "name": "stdout"
        }
      ]
    },
    {
      "cell_type": "markdown",
      "metadata": {
        "id": "Xhe0-PqUg8E1",
        "colab_type": "text"
      },
      "source": [
        "### Preprocessing the data:\n",
        "We cleaned the data by removing missing data values."
      ]
    },
    {
      "cell_type": "code",
      "metadata": {
        "id": "ZfevabG4g8E3",
        "colab_type": "code",
        "outputId": "a14dc18a-ab7b-48a6-fff0-ec02a677724a",
        "colab": {
          "base_uri": "https://localhost:8080/",
          "height": 434
        }
      },
      "source": [
        "dataset.isnull().sum() # here we show the missing data"
      ],
      "execution_count": 0,
      "outputs": [
        {
          "output_type": "execute_result",
          "data": {
            "text/plain": [
              "row_id                                0\n",
              "loan_type                             0\n",
              "property_type                         0\n",
              "loan_purpose                          0\n",
              "occupancy                             0\n",
              "loan_amount                           0\n",
              "preapproval                           0\n",
              "msa_md                                0\n",
              "state_code                            0\n",
              "county_code                           0\n",
              "applicant_ethnicity                   0\n",
              "applicant_race                        0\n",
              "applicant_sex                         0\n",
              "applicant_income                  39948\n",
              "population                        22465\n",
              "minority_population_pct           22466\n",
              "ffiecmedian_family_income         22440\n",
              "tract_to_msa_md_income_pct        22514\n",
              "number_of_owner-occupied_units    22565\n",
              "number_of_1_to_4_family_units     22530\n",
              "lender                                0\n",
              "co_applicant                          0\n",
              "accepted                              0\n",
              "dtype: int64"
            ]
          },
          "metadata": {
            "tags": []
          },
          "execution_count": 46
        }
      ]
    },
    {
      "cell_type": "markdown",
      "metadata": {
        "id": "pvTTzp4ig8E8",
        "colab_type": "text"
      },
      "source": [
        "This dataset contains some missing values. However, the rate is not significant therefore we can perform the dropout in order to remove them from the dataset as they will not affect the performance adversely.\n",
        "\n",
        "# The code below removes all the missing data."
      ]
    },
    {
      "cell_type": "code",
      "metadata": {
        "id": "UZuDMVFfg8FA",
        "colab_type": "code",
        "colab": {}
      },
      "source": [
        "dataset_cleaned=dataset.dropna()"
      ],
      "execution_count": 0,
      "outputs": []
    },
    {
      "cell_type": "code",
      "metadata": {
        "id": "fgCXK-41g8FE",
        "colab_type": "code",
        "outputId": "9446d53e-5bef-4366-b4fd-b5baa07d6389",
        "colab": {
          "base_uri": "https://localhost:8080/",
          "height": 434
        }
      },
      "source": [
        "dataset_cleaned.isnull().sum()"
      ],
      "execution_count": 0,
      "outputs": [
        {
          "output_type": "execute_result",
          "data": {
            "text/plain": [
              "row_id                            0\n",
              "loan_type                         0\n",
              "property_type                     0\n",
              "loan_purpose                      0\n",
              "occupancy                         0\n",
              "loan_amount                       0\n",
              "preapproval                       0\n",
              "msa_md                            0\n",
              "state_code                        0\n",
              "county_code                       0\n",
              "applicant_ethnicity               0\n",
              "applicant_race                    0\n",
              "applicant_sex                     0\n",
              "applicant_income                  0\n",
              "population                        0\n",
              "minority_population_pct           0\n",
              "ffiecmedian_family_income         0\n",
              "tract_to_msa_md_income_pct        0\n",
              "number_of_owner-occupied_units    0\n",
              "number_of_1_to_4_family_units     0\n",
              "lender                            0\n",
              "co_applicant                      0\n",
              "accepted                          0\n",
              "dtype: int64"
            ]
          },
          "metadata": {
            "tags": []
          },
          "execution_count": 48
        }
      ]
    },
    {
      "cell_type": "markdown",
      "metadata": {
        "id": "WNDgx80hg8FI",
        "colab_type": "text"
      },
      "source": [
        "###  Viewing the new shape of the dataset after cleaning "
      ]
    },
    {
      "cell_type": "code",
      "metadata": {
        "id": "RZS_gHGGg8FK",
        "colab_type": "code",
        "outputId": "7d86899e-92a2-4726-dda6-ac8a7874a870",
        "colab": {
          "base_uri": "https://localhost:8080/",
          "height": 34
        }
      },
      "source": [
        "dataset_cleaned.shape"
      ],
      "execution_count": 0,
      "outputs": [
        {
          "output_type": "execute_result",
          "data": {
            "text/plain": [
              "(438255, 23)"
            ]
          },
          "metadata": {
            "tags": []
          },
          "execution_count": 49
        }
      ]
    },
    {
      "cell_type": "code",
      "metadata": {
        "id": "qeFd5ytng8FO",
        "colab_type": "code",
        "outputId": "b3520b21-bab9-4198-b4c6-c1cd9409faa9",
        "colab": {
          "base_uri": "https://localhost:8080/",
          "height": 69
        }
      },
      "source": [
        "dataset.accepted.value_counts()"
      ],
      "execution_count": 0,
      "outputs": [
        {
          "output_type": "execute_result",
          "data": {
            "text/plain": [
              "1    250114\n",
              "0    249886\n",
              "Name: accepted, dtype: int64"
            ]
          },
          "metadata": {
            "tags": []
          },
          "execution_count": 50
        }
      ]
    },
    {
      "cell_type": "markdown",
      "metadata": {
        "id": "3tcUdf3tg8FS",
        "colab_type": "text"
      },
      "source": [
        "#### Checking the Column Labels"
      ]
    },
    {
      "cell_type": "code",
      "metadata": {
        "id": "Qz3062Lbg8FT",
        "colab_type": "code",
        "outputId": "b08e8b4b-f546-4958-cf60-3a124f55f3be",
        "colab": {
          "base_uri": "https://localhost:8080/",
          "height": 416
        }
      },
      "source": [
        "for col in dataset_cleaned.columns: \n",
        "    print(col)     "
      ],
      "execution_count": 0,
      "outputs": [
        {
          "output_type": "stream",
          "text": [
            "row_id\n",
            "loan_type\n",
            "property_type\n",
            "loan_purpose\n",
            "occupancy\n",
            "loan_amount\n",
            "preapproval\n",
            "msa_md\n",
            "state_code\n",
            "county_code\n",
            "applicant_ethnicity\n",
            "applicant_race\n",
            "applicant_sex\n",
            "applicant_income\n",
            "population\n",
            "minority_population_pct\n",
            "ffiecmedian_family_income\n",
            "tract_to_msa_md_income_pct\n",
            "number_of_owner-occupied_units\n",
            "number_of_1_to_4_family_units\n",
            "lender\n",
            "co_applicant\n",
            "accepted\n"
          ],
          "name": "stdout"
        }
      ]
    },
    {
      "cell_type": "code",
      "metadata": {
        "id": "NzBXAobbg8FX",
        "colab_type": "code",
        "colab": {}
      },
      "source": [
        ""
      ],
      "execution_count": 0,
      "outputs": []
    },
    {
      "cell_type": "code",
      "metadata": {
        "id": "L-NAw72Cg8Fa",
        "colab_type": "code",
        "colab": {}
      },
      "source": [
        ""
      ],
      "execution_count": 0,
      "outputs": []
    },
    {
      "cell_type": "markdown",
      "metadata": {
        "id": "l8wWOP1Hg8Fe",
        "colab_type": "text"
      },
      "source": [
        "### Transforming the categorical data to numerical data:\n",
        "\n",
        "Precisely setting the co-applicant values which is  boolean to zeros and ones. In this case True values are set to 1 and the false values are set to 0. The efficient way to transform the categorical data into numerical data is to use the **One hot encoding** but for this case the data was almost encoded expect for the column **\"co_applicant\".** Therefore we will use a simple way using the **loc function** in order to replace where the values is False by o and where the values is True by 1."
      ]
    },
    {
      "cell_type": "code",
      "metadata": {
        "id": "K6nWoGMig8Ff",
        "colab_type": "code",
        "outputId": "60b58c82-57c3-43ba-f37e-9e70551abbbb",
        "colab": {
          "base_uri": "https://localhost:8080/",
          "height": 121
        }
      },
      "source": [
        "dataset_cleaned.loc[(dataset_cleaned.co_applicant == True),'co_applicant']=1\n",
        "dataset_cleaned.loc[(dataset_cleaned.co_applicant == False),'co_applicant']=0\n"
      ],
      "execution_count": 0,
      "outputs": [
        {
          "output_type": "stream",
          "text": [
            "/usr/local/lib/python3.6/dist-packages/pandas/core/indexing.py:494: SettingWithCopyWarning: \n",
            "A value is trying to be set on a copy of a slice from a DataFrame.\n",
            "Try using .loc[row_indexer,col_indexer] = value instead\n",
            "\n",
            "See the caveats in the documentation: http://pandas.pydata.org/pandas-docs/stable/user_guide/indexing.html#returning-a-view-versus-a-copy\n",
            "  self.obj[item] = s\n"
          ],
          "name": "stderr"
        }
      ]
    },
    {
      "cell_type": "code",
      "metadata": {
        "id": "VjxHfwoRg8Fi",
        "colab_type": "code",
        "outputId": "0905acb8-8f57-4ef2-cac7-5230e5636022",
        "colab": {
          "base_uri": "https://localhost:8080/",
          "height": 244
        }
      },
      "source": [
        "dataset_cleaned.head() # viewing the first five observaions "
      ],
      "execution_count": 0,
      "outputs": [
        {
          "output_type": "execute_result",
          "data": {
            "text/html": [
              "<div>\n",
              "<style scoped>\n",
              "    .dataframe tbody tr th:only-of-type {\n",
              "        vertical-align: middle;\n",
              "    }\n",
              "\n",
              "    .dataframe tbody tr th {\n",
              "        vertical-align: top;\n",
              "    }\n",
              "\n",
              "    .dataframe thead th {\n",
              "        text-align: right;\n",
              "    }\n",
              "</style>\n",
              "<table border=\"1\" class=\"dataframe\">\n",
              "  <thead>\n",
              "    <tr style=\"text-align: right;\">\n",
              "      <th></th>\n",
              "      <th>row_id</th>\n",
              "      <th>loan_type</th>\n",
              "      <th>property_type</th>\n",
              "      <th>loan_purpose</th>\n",
              "      <th>occupancy</th>\n",
              "      <th>loan_amount</th>\n",
              "      <th>preapproval</th>\n",
              "      <th>msa_md</th>\n",
              "      <th>state_code</th>\n",
              "      <th>county_code</th>\n",
              "      <th>applicant_ethnicity</th>\n",
              "      <th>applicant_race</th>\n",
              "      <th>applicant_sex</th>\n",
              "      <th>applicant_income</th>\n",
              "      <th>population</th>\n",
              "      <th>minority_population_pct</th>\n",
              "      <th>ffiecmedian_family_income</th>\n",
              "      <th>tract_to_msa_md_income_pct</th>\n",
              "      <th>number_of_owner-occupied_units</th>\n",
              "      <th>number_of_1_to_4_family_units</th>\n",
              "      <th>lender</th>\n",
              "      <th>co_applicant</th>\n",
              "      <th>accepted</th>\n",
              "    </tr>\n",
              "  </thead>\n",
              "  <tbody>\n",
              "    <tr>\n",
              "      <th>0</th>\n",
              "      <td>0</td>\n",
              "      <td>3</td>\n",
              "      <td>1</td>\n",
              "      <td>1</td>\n",
              "      <td>1</td>\n",
              "      <td>70.0</td>\n",
              "      <td>3</td>\n",
              "      <td>18</td>\n",
              "      <td>37</td>\n",
              "      <td>246</td>\n",
              "      <td>2</td>\n",
              "      <td>5</td>\n",
              "      <td>1</td>\n",
              "      <td>24.0</td>\n",
              "      <td>6203.0</td>\n",
              "      <td>44.230</td>\n",
              "      <td>60588.0</td>\n",
              "      <td>50.933</td>\n",
              "      <td>716.0</td>\n",
              "      <td>2642.0</td>\n",
              "      <td>4536</td>\n",
              "      <td>0</td>\n",
              "      <td>1</td>\n",
              "    </tr>\n",
              "    <tr>\n",
              "      <th>1</th>\n",
              "      <td>1</td>\n",
              "      <td>1</td>\n",
              "      <td>1</td>\n",
              "      <td>3</td>\n",
              "      <td>1</td>\n",
              "      <td>178.0</td>\n",
              "      <td>3</td>\n",
              "      <td>369</td>\n",
              "      <td>52</td>\n",
              "      <td>299</td>\n",
              "      <td>1</td>\n",
              "      <td>5</td>\n",
              "      <td>1</td>\n",
              "      <td>57.0</td>\n",
              "      <td>5774.0</td>\n",
              "      <td>15.905</td>\n",
              "      <td>54821.0</td>\n",
              "      <td>100.000</td>\n",
              "      <td>1622.0</td>\n",
              "      <td>2108.0</td>\n",
              "      <td>2458</td>\n",
              "      <td>0</td>\n",
              "      <td>0</td>\n",
              "    </tr>\n",
              "    <tr>\n",
              "      <th>2</th>\n",
              "      <td>2</td>\n",
              "      <td>2</td>\n",
              "      <td>1</td>\n",
              "      <td>3</td>\n",
              "      <td>1</td>\n",
              "      <td>163.0</td>\n",
              "      <td>3</td>\n",
              "      <td>16</td>\n",
              "      <td>10</td>\n",
              "      <td>306</td>\n",
              "      <td>2</td>\n",
              "      <td>5</td>\n",
              "      <td>1</td>\n",
              "      <td>67.0</td>\n",
              "      <td>6094.0</td>\n",
              "      <td>61.270</td>\n",
              "      <td>67719.0</td>\n",
              "      <td>100.000</td>\n",
              "      <td>760.0</td>\n",
              "      <td>1048.0</td>\n",
              "      <td>5710</td>\n",
              "      <td>0</td>\n",
              "      <td>1</td>\n",
              "    </tr>\n",
              "    <tr>\n",
              "      <th>3</th>\n",
              "      <td>3</td>\n",
              "      <td>1</td>\n",
              "      <td>1</td>\n",
              "      <td>1</td>\n",
              "      <td>1</td>\n",
              "      <td>155.0</td>\n",
              "      <td>1</td>\n",
              "      <td>305</td>\n",
              "      <td>47</td>\n",
              "      <td>180</td>\n",
              "      <td>2</td>\n",
              "      <td>5</td>\n",
              "      <td>1</td>\n",
              "      <td>105.0</td>\n",
              "      <td>6667.0</td>\n",
              "      <td>6.246</td>\n",
              "      <td>78439.0</td>\n",
              "      <td>100.000</td>\n",
              "      <td>2025.0</td>\n",
              "      <td>2299.0</td>\n",
              "      <td>5888</td>\n",
              "      <td>1</td>\n",
              "      <td>1</td>\n",
              "    </tr>\n",
              "    <tr>\n",
              "      <th>4</th>\n",
              "      <td>4</td>\n",
              "      <td>1</td>\n",
              "      <td>1</td>\n",
              "      <td>1</td>\n",
              "      <td>1</td>\n",
              "      <td>305.0</td>\n",
              "      <td>3</td>\n",
              "      <td>24</td>\n",
              "      <td>37</td>\n",
              "      <td>20</td>\n",
              "      <td>2</td>\n",
              "      <td>3</td>\n",
              "      <td>2</td>\n",
              "      <td>71.0</td>\n",
              "      <td>6732.0</td>\n",
              "      <td>100.000</td>\n",
              "      <td>63075.0</td>\n",
              "      <td>82.200</td>\n",
              "      <td>1464.0</td>\n",
              "      <td>1847.0</td>\n",
              "      <td>289</td>\n",
              "      <td>0</td>\n",
              "      <td>1</td>\n",
              "    </tr>\n",
              "  </tbody>\n",
              "</table>\n",
              "</div>"
            ],
            "text/plain": [
              "   row_id  loan_type  property_type  ...  lender  co_applicant  accepted\n",
              "0       0          3              1  ...    4536             0         1\n",
              "1       1          1              1  ...    2458             0         0\n",
              "2       2          2              1  ...    5710             0         1\n",
              "3       3          1              1  ...    5888             1         1\n",
              "4       4          1              1  ...     289             0         1\n",
              "\n",
              "[5 rows x 23 columns]"
            ]
          },
          "metadata": {
            "tags": []
          },
          "execution_count": 53
        }
      ]
    },
    {
      "cell_type": "code",
      "metadata": {
        "id": "hFMHiz2qg8Fm",
        "colab_type": "code",
        "outputId": "3565720f-fd3f-4b24-bfab-a585c0974dd8",
        "colab": {
          "base_uri": "https://localhost:8080/",
          "height": 34
        }
      },
      "source": [
        "dataset_cleaned['loan_purpose'].unique()"
      ],
      "execution_count": 0,
      "outputs": [
        {
          "output_type": "execute_result",
          "data": {
            "text/plain": [
              "array([1, 3, 2])"
            ]
          },
          "metadata": {
            "tags": []
          },
          "execution_count": 54
        }
      ]
    },
    {
      "cell_type": "code",
      "metadata": {
        "id": "90UAgCRng8Fp",
        "colab_type": "code",
        "outputId": "7f93e6af-fefb-4cfa-c587-7e91480155c6",
        "colab": {
          "base_uri": "https://localhost:8080/",
          "height": 34
        }
      },
      "source": [
        "dataset_cleaned['property_type'].unique()"
      ],
      "execution_count": 0,
      "outputs": [
        {
          "output_type": "execute_result",
          "data": {
            "text/plain": [
              "array([1, 2])"
            ]
          },
          "metadata": {
            "tags": []
          },
          "execution_count": 55
        }
      ]
    },
    {
      "cell_type": "code",
      "metadata": {
        "id": "sqN5xsN0g8Fs",
        "colab_type": "code",
        "colab": {}
      },
      "source": [
        ""
      ],
      "execution_count": 0,
      "outputs": []
    },
    {
      "cell_type": "markdown",
      "metadata": {
        "id": "6zkk9Kv3g8Fv",
        "colab_type": "text"
      },
      "source": [
        "### Droping Redundant Columns:\n",
        "We removed the columns that are not needed. Such are the applicant identifier column (row id) and applicant ethnicity. We observed that these features don't have any effect on an applicant being accepted or not."
      ]
    },
    {
      "cell_type": "code",
      "metadata": {
        "id": "16npaAu6g8Fw",
        "colab_type": "code",
        "colab": {}
      },
      "source": [
        "dataset_cleaned=dataset_cleaned.drop(columns =['row_id']) "
      ],
      "execution_count": 0,
      "outputs": []
    },
    {
      "cell_type": "code",
      "metadata": {
        "id": "uDmkIXuxg8Fz",
        "colab_type": "code",
        "colab": {}
      },
      "source": [
        "dataset_cleaned=dataset_cleaned.drop(columns =['applicant_ethnicity']) "
      ],
      "execution_count": 0,
      "outputs": []
    },
    {
      "cell_type": "code",
      "metadata": {
        "id": "5F6U2ZeEg8F2",
        "colab_type": "code",
        "outputId": "d0c79678-8890-4cd8-ee71-4795e74d37c0",
        "colab": {
          "base_uri": "https://localhost:8080/",
          "height": 244
        }
      },
      "source": [
        "dataset_cleaned.head()"
      ],
      "execution_count": 0,
      "outputs": [
        {
          "output_type": "execute_result",
          "data": {
            "text/html": [
              "<div>\n",
              "<style scoped>\n",
              "    .dataframe tbody tr th:only-of-type {\n",
              "        vertical-align: middle;\n",
              "    }\n",
              "\n",
              "    .dataframe tbody tr th {\n",
              "        vertical-align: top;\n",
              "    }\n",
              "\n",
              "    .dataframe thead th {\n",
              "        text-align: right;\n",
              "    }\n",
              "</style>\n",
              "<table border=\"1\" class=\"dataframe\">\n",
              "  <thead>\n",
              "    <tr style=\"text-align: right;\">\n",
              "      <th></th>\n",
              "      <th>loan_type</th>\n",
              "      <th>property_type</th>\n",
              "      <th>loan_purpose</th>\n",
              "      <th>occupancy</th>\n",
              "      <th>loan_amount</th>\n",
              "      <th>preapproval</th>\n",
              "      <th>msa_md</th>\n",
              "      <th>state_code</th>\n",
              "      <th>county_code</th>\n",
              "      <th>applicant_race</th>\n",
              "      <th>applicant_sex</th>\n",
              "      <th>applicant_income</th>\n",
              "      <th>population</th>\n",
              "      <th>minority_population_pct</th>\n",
              "      <th>ffiecmedian_family_income</th>\n",
              "      <th>tract_to_msa_md_income_pct</th>\n",
              "      <th>number_of_owner-occupied_units</th>\n",
              "      <th>number_of_1_to_4_family_units</th>\n",
              "      <th>lender</th>\n",
              "      <th>co_applicant</th>\n",
              "      <th>accepted</th>\n",
              "    </tr>\n",
              "  </thead>\n",
              "  <tbody>\n",
              "    <tr>\n",
              "      <th>0</th>\n",
              "      <td>3</td>\n",
              "      <td>1</td>\n",
              "      <td>1</td>\n",
              "      <td>1</td>\n",
              "      <td>70.0</td>\n",
              "      <td>3</td>\n",
              "      <td>18</td>\n",
              "      <td>37</td>\n",
              "      <td>246</td>\n",
              "      <td>5</td>\n",
              "      <td>1</td>\n",
              "      <td>24.0</td>\n",
              "      <td>6203.0</td>\n",
              "      <td>44.230</td>\n",
              "      <td>60588.0</td>\n",
              "      <td>50.933</td>\n",
              "      <td>716.0</td>\n",
              "      <td>2642.0</td>\n",
              "      <td>4536</td>\n",
              "      <td>0</td>\n",
              "      <td>1</td>\n",
              "    </tr>\n",
              "    <tr>\n",
              "      <th>1</th>\n",
              "      <td>1</td>\n",
              "      <td>1</td>\n",
              "      <td>3</td>\n",
              "      <td>1</td>\n",
              "      <td>178.0</td>\n",
              "      <td>3</td>\n",
              "      <td>369</td>\n",
              "      <td>52</td>\n",
              "      <td>299</td>\n",
              "      <td>5</td>\n",
              "      <td>1</td>\n",
              "      <td>57.0</td>\n",
              "      <td>5774.0</td>\n",
              "      <td>15.905</td>\n",
              "      <td>54821.0</td>\n",
              "      <td>100.000</td>\n",
              "      <td>1622.0</td>\n",
              "      <td>2108.0</td>\n",
              "      <td>2458</td>\n",
              "      <td>0</td>\n",
              "      <td>0</td>\n",
              "    </tr>\n",
              "    <tr>\n",
              "      <th>2</th>\n",
              "      <td>2</td>\n",
              "      <td>1</td>\n",
              "      <td>3</td>\n",
              "      <td>1</td>\n",
              "      <td>163.0</td>\n",
              "      <td>3</td>\n",
              "      <td>16</td>\n",
              "      <td>10</td>\n",
              "      <td>306</td>\n",
              "      <td>5</td>\n",
              "      <td>1</td>\n",
              "      <td>67.0</td>\n",
              "      <td>6094.0</td>\n",
              "      <td>61.270</td>\n",
              "      <td>67719.0</td>\n",
              "      <td>100.000</td>\n",
              "      <td>760.0</td>\n",
              "      <td>1048.0</td>\n",
              "      <td>5710</td>\n",
              "      <td>0</td>\n",
              "      <td>1</td>\n",
              "    </tr>\n",
              "    <tr>\n",
              "      <th>3</th>\n",
              "      <td>1</td>\n",
              "      <td>1</td>\n",
              "      <td>1</td>\n",
              "      <td>1</td>\n",
              "      <td>155.0</td>\n",
              "      <td>1</td>\n",
              "      <td>305</td>\n",
              "      <td>47</td>\n",
              "      <td>180</td>\n",
              "      <td>5</td>\n",
              "      <td>1</td>\n",
              "      <td>105.0</td>\n",
              "      <td>6667.0</td>\n",
              "      <td>6.246</td>\n",
              "      <td>78439.0</td>\n",
              "      <td>100.000</td>\n",
              "      <td>2025.0</td>\n",
              "      <td>2299.0</td>\n",
              "      <td>5888</td>\n",
              "      <td>1</td>\n",
              "      <td>1</td>\n",
              "    </tr>\n",
              "    <tr>\n",
              "      <th>4</th>\n",
              "      <td>1</td>\n",
              "      <td>1</td>\n",
              "      <td>1</td>\n",
              "      <td>1</td>\n",
              "      <td>305.0</td>\n",
              "      <td>3</td>\n",
              "      <td>24</td>\n",
              "      <td>37</td>\n",
              "      <td>20</td>\n",
              "      <td>3</td>\n",
              "      <td>2</td>\n",
              "      <td>71.0</td>\n",
              "      <td>6732.0</td>\n",
              "      <td>100.000</td>\n",
              "      <td>63075.0</td>\n",
              "      <td>82.200</td>\n",
              "      <td>1464.0</td>\n",
              "      <td>1847.0</td>\n",
              "      <td>289</td>\n",
              "      <td>0</td>\n",
              "      <td>1</td>\n",
              "    </tr>\n",
              "  </tbody>\n",
              "</table>\n",
              "</div>"
            ],
            "text/plain": [
              "   loan_type  property_type  loan_purpose  ...  lender  co_applicant  accepted\n",
              "0          3              1             1  ...    4536             0         1\n",
              "1          1              1             3  ...    2458             0         0\n",
              "2          2              1             3  ...    5710             0         1\n",
              "3          1              1             1  ...    5888             1         1\n",
              "4          1              1             1  ...     289             0         1\n",
              "\n",
              "[5 rows x 21 columns]"
            ]
          },
          "metadata": {
            "tags": []
          },
          "execution_count": 58
        }
      ]
    },
    {
      "cell_type": "code",
      "metadata": {
        "id": "Oe815SQ7g8F4",
        "colab_type": "code",
        "colab": {}
      },
      "source": [
        "target_count = dataset_cleaned.accepted.value_counts()"
      ],
      "execution_count": 0,
      "outputs": []
    },
    {
      "cell_type": "code",
      "metadata": {
        "id": "zvHWdCIbg8F6",
        "colab_type": "code",
        "outputId": "c482e42b-8bc5-4302-a045-3f8d762adcc4",
        "colab": {
          "base_uri": "https://localhost:8080/",
          "height": 34
        }
      },
      "source": [
        "dataset_cleaned['applicant_sex'].unique()"
      ],
      "execution_count": 0,
      "outputs": [
        {
          "output_type": "execute_result",
          "data": {
            "text/plain": [
              "array([1, 2, 3, 4])"
            ]
          },
          "metadata": {
            "tags": []
          },
          "execution_count": 60
        }
      ]
    },
    {
      "cell_type": "markdown",
      "metadata": {
        "id": "EjzEcgGKg8F9",
        "colab_type": "text"
      },
      "source": [
        "### Let us explore our target variable and visualize it for checking Whether the Classes are  Balanced or Imbalanced:\n"
      ]
    },
    {
      "cell_type": "code",
      "metadata": {
        "id": "LSBUL0-xg8F-",
        "colab_type": "code",
        "outputId": "24086eff-dbeb-4b46-81b4-fe63c44542b8",
        "colab": {
          "base_uri": "https://localhost:8080/",
          "height": 365
        }
      },
      "source": [
        "print('Class 0:', target_count[0])\n",
        "print('Class 1:', target_count[1])\n",
        "print('Proportion:', round(target_count[0] / target_count[1], 2), ': 1')\n",
        "\n",
        "count_no_acc = len(dataset_cleaned[dataset_cleaned['accepted']==0])\n",
        "count_acc = len(dataset_cleaned[dataset_cleaned['accepted']==1])\n",
        "pct_of_no_acc = count_no_acc/(count_no_acc+count_acc)\n",
        "print(\"percentage of no accepted is\", pct_of_no_acc*100)\n",
        "pct_of_acc = count_acc/(count_no_acc+count_acc)\n",
        "print(\"percentage of accepted\", pct_of_acc*100)\n",
        "\n",
        "target_count.plot(kind='bar', title='Count (accepted)');\n"
      ],
      "execution_count": 0,
      "outputs": [
        {
          "output_type": "stream",
          "text": [
            "Class 0: 210208\n",
            "Class 1: 228047\n",
            "Proportion: 0.92 : 1\n",
            "percentage of no accepted is 47.96476936943104\n",
            "percentage of accepted 52.03523063056896\n"
          ],
          "name": "stdout"
        },
        {
          "output_type": "display_data",
          "data": {
            "image/png": "[encoded data removed]",
            "text/plain": [
              "<Figure size 432x288 with 1 Axes>"
            ]
          },
          "metadata": {
            "tags": []
          }
        }
      ]
    },
    {
      "cell_type": "code",
      "metadata": {
        "id": "RznaNR0Ng8GB",
        "colab_type": "code",
        "colab": {}
      },
      "source": [
        ""
      ],
      "execution_count": 0,
      "outputs": []
    },
    {
      "cell_type": "markdown",
      "metadata": {
        "id": "XAx90R7Xg8GE",
        "colab_type": "text"
      },
      "source": [
        "# Observations:\n",
        "\n",
        "We observed that the classes are balanced since the proportion of the classes are 0.92 : 1. Moreover, Our classes are balanced, and the ratio of no-accepted to accepted instances is 47.96.\n"
      ]
    },
    {
      "cell_type": "markdown",
      "metadata": {
        "id": "BnDjnizYg8GF",
        "colab_type": "text"
      },
      "source": [
        "#### We can calculate categorical means for other categorical variables such as education and marital status to get a more detailed sense of our data."
      ]
    },
    {
      "cell_type": "markdown",
      "metadata": {
        "id": "74wNYDHzg8GG",
        "colab_type": "text"
      },
      "source": [
        "### Plotting accepted against the race of the applicant."
      ]
    },
    {
      "cell_type": "code",
      "metadata": {
        "id": "OTVSgAUng8GJ",
        "colab_type": "code",
        "outputId": "58ee696a-f4c1-4a01-a6e1-efdaddbc7880",
        "colab": {
          "base_uri": "https://localhost:8080/",
          "height": 292
        }
      },
      "source": [
        "pd.crosstab(dataset_cleaned.applicant_race,dataset_cleaned.accepted).plot(kind='bar')\n",
        "plt.title('Acceptance Frequency for race')\n",
        "plt.xlabel('applicant race')\n",
        "plt.ylabel('Frequency of Acceptance')\n",
        "plt.savefig('pur_fre_applicant_race_bar')"
      ],
      "execution_count": 0,
      "outputs": [
        {
          "output_type": "display_data",
          "data": {
            "image/png": "[encoded data removed]",
            "text/plain": [
              "<Figure size 432x288 with 1 Axes>"
            ]
          },
          "metadata": {
            "tags": []
          }
        }
      ]
    },
    {
      "cell_type": "markdown",
      "metadata": {
        "id": "MfQKnxpbg8GM",
        "colab_type": "text"
      },
      "source": [
        "The applicant race can be defined as following :\n",
        "- 1 -- American Indian or Alaska Native\n",
        "- 2 -- Asian\n",
        "- 3 -- Black or African American\n",
        "- 4 -- Native Hawaiian or Other Pacific Islander\n",
        "- 5 -- White\n",
        "- 6 -- Information not provided by applicant in mail, Internet, or telephone application\n",
        "- 7 -- Not applicable\n",
        "- 8 -- No co-applicant\n",
        "\n",
        "From the graph we notice that the white people represente high frequency of acceptance. The American Indian or Alaska Native race have the lowest frequency close to 0."
      ]
    },
    {
      "cell_type": "markdown",
      "metadata": {
        "id": "qOtOKAStg8GO",
        "colab_type": "text"
      },
      "source": [
        "### Plotting the frequence of accaptance against the sex of the applicant"
      ]
    },
    {
      "cell_type": "code",
      "metadata": {
        "id": "HxPqObfPg8GP",
        "colab_type": "code",
        "outputId": "21562caf-182b-4685-f1a1-9c2f13cd2ea2",
        "colab": {
          "base_uri": "https://localhost:8080/",
          "height": 293
        }
      },
      "source": [
        "pd.crosstab(dataset_cleaned.applicant_sex,dataset_cleaned.accepted).plot(kind='bar')\n",
        "plt.title('Acceptance Frequency for applicant_sex')\n",
        "plt.xlabel('applicant_sex')\n",
        "plt.ylabel('Frequency of Acceptance')\n",
        "plt.savefig('pur_fre_applicant_sex_bar')"
      ],
      "execution_count": 0,
      "outputs": [
        {
          "output_type": "display_data",
          "data": {
            "image/png": "[encoded data removed]",
            "text/plain": [
              "<Figure size 432x288 with 1 Axes>"
            ]
          },
          "metadata": {
            "tags": []
          }
        }
      ]
    },
    {
      "cell_type": "markdown",
      "metadata": {
        "id": "bAHKL17Xg8GT",
        "colab_type": "text"
      },
      "source": [
        "The feature sex are :\n",
        "- 1 -- Male\n",
        "- 2 -- Female\n",
        "- 3 -- Information not provided by applicant in mail, Internet, or telephone application\n",
        "- 4 -- Not applicable\n",
        "\n",
        "The graph shows that the Acceptance frequency for male is higher compared to female almost the half.\n"
      ]
    },
    {
      "cell_type": "code",
      "metadata": {
        "id": "U4oQ4_L_g8GT",
        "colab_type": "code",
        "colab": {}
      },
      "source": [
        "#pd.crosstab(dataset_cleaned.lender,dataset_cleaned.accepted).plot(kind='bar')\n",
        "#plt.title('Acceptance Frequency for lender')\n",
        "#plt.xlabel('lender')\n",
        "#plt.ylabel('Frequency of Accepted')\n",
        "#plt.savefig('pur_fre_property_type_bar')"
      ],
      "execution_count": 0,
      "outputs": []
    },
    {
      "cell_type": "code",
      "metadata": {
        "id": "UwMIo1Nig8GU",
        "colab_type": "code",
        "colab": {}
      },
      "source": [
        ""
      ],
      "execution_count": 0,
      "outputs": []
    },
    {
      "cell_type": "code",
      "metadata": {
        "id": "VVIPKlWMg8GW",
        "colab_type": "code",
        "colab": {}
      },
      "source": [
        "dataset_cleaned=dataset_cleaned.drop(columns =['lender']) "
      ],
      "execution_count": 0,
      "outputs": []
    },
    {
      "cell_type": "markdown",
      "metadata": {
        "id": "eoe4l1efg8Gb",
        "colab_type": "text"
      },
      "source": [
        "### Plotting the frequence of accaptance against the property_type"
      ]
    },
    {
      "cell_type": "code",
      "metadata": {
        "id": "fD16P9sjg8Gb",
        "colab_type": "code",
        "outputId": "7d1643c6-fe89-455b-a81c-ef1418742f9c",
        "colab": {
          "base_uri": "https://localhost:8080/",
          "height": 292
        }
      },
      "source": [
        "pd.crosstab(dataset_cleaned.property_type,dataset_cleaned.accepted).plot(kind='bar')\n",
        "plt.title('Acceptance Frequency for property_type')\n",
        "plt.xlabel('property_type')\n",
        "plt.ylabel('Frequency of Acceptance')\n",
        "plt.savefig('pur_fre_property_type_bar')"
      ],
      "execution_count": 0,
      "outputs": [
        {
          "output_type": "display_data",
          "data": {
            "image/png": "[encoded data removed]",
            "text/plain": [
              "<Figure size 432x288 with 1 Axes>"
            ]
          },
          "metadata": {
            "tags": []
          }
        }
      ]
    },
    {
      "cell_type": "markdown",
      "metadata": {
        "id": "ETWqIJ4Pg8Gf",
        "colab_type": "text"
      },
      "source": [
        "Acceptance Frequency for property_type:\n",
        "- 1 -- One to four-family (other than manufactured housing)\n",
        "- 2 -- Manufactured housing\n",
        "- 3 -- Multifamily\n",
        "\n",
        "From the graph we notice that we have just two property_type because we cleaned the data.\n",
        "\n",
        "The Acceptance Frequency for the type \"one to four family\" is higher than the \"Manufactured housing\" which is close to 0."
      ]
    },
    {
      "cell_type": "code",
      "metadata": {
        "id": "rX2spG_hg8Gf",
        "colab_type": "code",
        "outputId": "07331b04-f5cc-4e80-b1ec-7c7fe2ab3632",
        "colab": {
          "base_uri": "https://localhost:8080/",
          "height": 292
        }
      },
      "source": [
        "pd.crosstab(dataset_cleaned.preapproval,dataset_cleaned.accepted).plot(kind='bar')\n",
        "plt.title('Acceptance Frequency for preapproval')\n",
        "plt.xlabel('preapproval')\n",
        "plt.ylabel('Frequency of Acceptance')\n",
        "plt.savefig('pur_fre_preapproval_type_bar')"
      ],
      "execution_count": 0,
      "outputs": [
        {
          "output_type": "display_data",
          "data": {
            "image/png": "[encoded data removed]",
            "text/plain": [
              "<Figure size 432x288 with 1 Axes>"
            ]
          },
          "metadata": {
            "tags": []
          }
        }
      ]
    },
    {
      "cell_type": "markdown",
      "metadata": {
        "id": "JrLXaRR_g8Gi",
        "colab_type": "text"
      },
      "source": [
        "Preapproval:\n",
        "- 1 -- Preapproval was requested\n",
        "- 2 -- Preapproval was not requested\n",
        "- 3 -- Not applicable\n",
        "\n",
        "From the graph we notice that the Preapproval of the \"not applicable\" is higher than the \"was not requested\" characteristics and the \"was requested\" that is closed to zero."
      ]
    },
    {
      "cell_type": "code",
      "metadata": {
        "id": "Qyw0gKcFg8Gi",
        "colab_type": "code",
        "outputId": "3ee840d3-cdc5-4f8b-ec66-74a7ead316e1",
        "colab": {
          "base_uri": "https://localhost:8080/",
          "height": 292
        }
      },
      "source": [
        "pd.crosstab(dataset_cleaned.occupancy,dataset_cleaned.accepted).plot(kind='bar')\n",
        "plt.title('Acceptance Frequency for occupancy')\n",
        "plt.xlabel('occupancy')\n",
        "plt.ylabel('Frequency of Acceptance')\n",
        "plt.savefig('pur_fre_occupancy_type_bar')"
      ],
      "execution_count": 0,
      "outputs": [
        {
          "output_type": "display_data",
          "data": {
            "image/png": "[encoded data removed]",
            "text/plain": [
              "<Figure size 432x288 with 1 Axes>"
            ]
          },
          "metadata": {
            "tags": []
          }
        }
      ]
    },
    {
      "cell_type": "markdown",
      "metadata": {
        "id": "SrSNEOJUg8Gl",
        "colab_type": "text"
      },
      "source": [
        "The feature of occupancy is characterized by :\n",
        "- 1 -- Owner-occupied as a principal dwelling\n",
        "- 2 -- Not owner-occupied\n",
        "- 3 -- Not applicable\n",
        "\n",
        "The first characteristic presents the highest frequency compared to the others characteristics. With that characteristic the accepted frequency is higher about 10000 than the denied."
      ]
    },
    {
      "cell_type": "code",
      "metadata": {
        "id": "DVMVxV8Sg8Gm",
        "colab_type": "code",
        "outputId": "d702bdfb-e1ab-43d8-8ae0-873f3e88b4b2",
        "colab": {
          "base_uri": "https://localhost:8080/",
          "height": 293
        }
      },
      "source": [
        "pd.crosstab(dataset_cleaned.loan_purpose,dataset_cleaned.accepted).plot(kind='bar')\n",
        "plt.title('Acceptance Frequency for loan_purpose')\n",
        "plt.xlabel('loan_purpose')\n",
        "plt.ylabel('Frequency of Acceptance')\n",
        "plt.savefig('pur_fre_loan_purpose_type_bar')"
      ],
      "execution_count": 0,
      "outputs": [
        {
          "output_type": "display_data",
          "data": {
            "image/png": "[encoded data removed]",
            "text/plain": [
              "<Figure size 432x288 with 1 Axes>"
            ]
          },
          "metadata": {
            "tags": []
          }
        }
      ]
    },
    {
      "cell_type": "markdown",
      "metadata": {
        "id": "DPbkhrw8g8Go",
        "colab_type": "text"
      },
      "source": [
        "Loan-purposed:\n",
        "- 1 -- Home purchase\n",
        "- 2 -- Home improvement\n",
        "- 3 -- Refinancingwith \n",
        "\n",
        "Here the \"home purchase\" and the \"refinancing\" characteristics presente almost the same frequency level, but with the \"home purchase\" the accepted are higher than the denied and inversly for the \"refinancing\"."
      ]
    },
    {
      "cell_type": "code",
      "metadata": {
        "id": "lKizIgE4g8Gp",
        "colab_type": "code",
        "outputId": "5d971385-c5b3-4b19-a89b-321d38fb270b",
        "colab": {
          "base_uri": "https://localhost:8080/",
          "height": 364
        }
      },
      "source": [
        "for col in dataset_cleaned.columns: \n",
        "    print(col)     "
      ],
      "execution_count": 0,
      "outputs": [
        {
          "output_type": "stream",
          "text": [
            "loan_type\n",
            "property_type\n",
            "loan_purpose\n",
            "occupancy\n",
            "loan_amount\n",
            "preapproval\n",
            "msa_md\n",
            "state_code\n",
            "county_code\n",
            "applicant_race\n",
            "applicant_sex\n",
            "applicant_income\n",
            "population\n",
            "minority_population_pct\n",
            "ffiecmedian_family_income\n",
            "tract_to_msa_md_income_pct\n",
            "number_of_owner-occupied_units\n",
            "number_of_1_to_4_family_units\n",
            "co_applicant\n",
            "accepted\n"
          ],
          "name": "stdout"
        }
      ]
    },
    {
      "cell_type": "markdown",
      "metadata": {
        "id": "Ni1-gjNcg8Gr",
        "colab_type": "text"
      },
      "source": [
        "# Observation"
      ]
    },
    {
      "cell_type": "markdown",
      "metadata": {
        "id": "dJiEh7Avg8Gs",
        "colab_type": "text"
      },
      "source": [
        "Part of the feature selection process, the above process was done in order to plot and visualize the level of dependency of the target variable \"accepted\" according to the independent categorical variables. Apparently, some features do not have much impact on the decision of approving the mortgage such as \"lender\", and therefore those features have been removed in the orediction process."
      ]
    },
    {
      "cell_type": "code",
      "metadata": {
        "id": "Bj5tIrbxg8Gs",
        "colab_type": "code",
        "colab": {}
      },
      "source": [
        ""
      ],
      "execution_count": 0,
      "outputs": []
    },
    {
      "cell_type": "code",
      "metadata": {
        "id": "_6aXjul9g8Gv",
        "colab_type": "code",
        "colab": {}
      },
      "source": [
        ""
      ],
      "execution_count": 0,
      "outputs": []
    },
    {
      "cell_type": "code",
      "metadata": {
        "id": "JT4AqzSVg8G1",
        "colab_type": "code",
        "outputId": "96cf078e-2d15-4a2b-8111-a910c3c6507c",
        "colab": {
          "base_uri": "https://localhost:8080/",
          "height": 364
        }
      },
      "source": [
        "for col in dataset_cleaned.columns: \n",
        "    print(col)     "
      ],
      "execution_count": 0,
      "outputs": [
        {
          "output_type": "stream",
          "text": [
            "loan_type\n",
            "property_type\n",
            "loan_purpose\n",
            "occupancy\n",
            "loan_amount\n",
            "preapproval\n",
            "msa_md\n",
            "state_code\n",
            "county_code\n",
            "applicant_race\n",
            "applicant_sex\n",
            "applicant_income\n",
            "population\n",
            "minority_population_pct\n",
            "ffiecmedian_family_income\n",
            "tract_to_msa_md_income_pct\n",
            "number_of_owner-occupied_units\n",
            "number_of_1_to_4_family_units\n",
            "co_applicant\n",
            "accepted\n"
          ],
          "name": "stdout"
        }
      ]
    },
    {
      "cell_type": "code",
      "metadata": {
        "id": "1Hnp6tBNg8G3",
        "colab_type": "code",
        "colab": {}
      },
      "source": [
        "#dataset_cleaned=dataset_cleaned.drop(columns =['lender']) \n",
        "#dataset_cleaned=dataset_cleaned.drop(columns =['msa_md']) \n",
        "#dataset_cleaned=dataset_cleaned.drop(columns =['population']) \n",
        "#dataset_cleaned=dataset_cleaned.drop(columns =['lender']) "
      ],
      "execution_count": 0,
      "outputs": []
    },
    {
      "cell_type": "markdown",
      "metadata": {
        "id": "LpT4WOWng8G5",
        "colab_type": "text"
      },
      "source": [
        "# Feature selection process"
      ]
    },
    {
      "cell_type": "markdown",
      "metadata": {
        "id": "-QZUPiUtg8G6",
        "colab_type": "text"
      },
      "source": [
        "Feature selection can be done in multiple ways but there are broadly 3 categories of it:\n",
        "\n",
        "1. Filter Method\n",
        "\n",
        "2. Wrapper Method\n",
        "\n",
        "3. Embedded Method\n",
        "\n",
        "\n"
      ]
    },
    {
      "cell_type": "code",
      "metadata": {
        "id": "jmTnKmddg8G7",
        "colab_type": "code",
        "colab": {}
      },
      "source": [
        "#corr = dataset_cleaned.corr()"
      ],
      "execution_count": 0,
      "outputs": []
    },
    {
      "cell_type": "code",
      "metadata": {
        "id": "O9-3nSubg8G8",
        "colab_type": "code",
        "colab": {}
      },
      "source": [
        "#plt.figure(figsize=(15,10))\n",
        "#sns.heatmap(corr)"
      ],
      "execution_count": 0,
      "outputs": []
    },
    {
      "cell_type": "code",
      "metadata": {
        "id": "VV7ILjCjg8G_",
        "colab_type": "code",
        "colab": {}
      },
      "source": [
        ""
      ],
      "execution_count": 0,
      "outputs": []
    },
    {
      "cell_type": "markdown",
      "metadata": {
        "id": "XacqIvywg8HI",
        "colab_type": "text"
      },
      "source": [
        "###  Splitting the data into two types of variables dependent(or target variable) and independent variable(or feature variables)."
      ]
    },
    {
      "cell_type": "code",
      "metadata": {
        "id": "m1Aa7TzAg8HJ",
        "colab_type": "code",
        "colab": {}
      },
      "source": [
        ""
      ],
      "execution_count": 0,
      "outputs": []
    },
    {
      "cell_type": "code",
      "metadata": {
        "id": "8-kXUkpYg8HK",
        "colab_type": "code",
        "colab": {}
      },
      "source": [
        "X= dataset_cleaned.drop(columns=['accepted']).values\n",
        "Y = dataset_cleaned['accepted'].values\n",
        "\n",
        " "
      ],
      "execution_count": 0,
      "outputs": []
    },
    {
      "cell_type": "code",
      "metadata": {
        "id": "MvgEqP2Kg8HN",
        "colab_type": "code",
        "outputId": "5aea42fb-4955-458d-bf10-3bb4fbfc8768",
        "colab": {
          "base_uri": "https://localhost:8080/",
          "height": 34
        }
      },
      "source": [
        "X.shape # Viewing the shape after spliting"
      ],
      "execution_count": 0,
      "outputs": [
        {
          "output_type": "execute_result",
          "data": {
            "text/plain": [
              "(438255, 19)"
            ]
          },
          "metadata": {
            "tags": []
          },
          "execution_count": 80
        }
      ]
    },
    {
      "cell_type": "code",
      "metadata": {
        "id": "JHGk9MCgg8HO",
        "colab_type": "code",
        "outputId": "010083d5-a290-4e4c-d692-8133a9e6c99d",
        "colab": {
          "base_uri": "https://localhost:8080/",
          "height": 34
        }
      },
      "source": [
        "Y.shape"
      ],
      "execution_count": 0,
      "outputs": [
        {
          "output_type": "execute_result",
          "data": {
            "text/plain": [
              "(438255,)"
            ]
          },
          "metadata": {
            "tags": []
          },
          "execution_count": 81
        }
      ]
    },
    {
      "cell_type": "code",
      "metadata": {
        "id": "vqCd_Oxbg8HR",
        "colab_type": "code",
        "colab": {}
      },
      "source": [
        ""
      ],
      "execution_count": 0,
      "outputs": []
    },
    {
      "cell_type": "markdown",
      "metadata": {
        "id": "R3DuzSLcg8HU",
        "colab_type": "text"
      },
      "source": [
        "## 1. Recursive Feature Elimination"
      ]
    },
    {
      "cell_type": "markdown",
      "metadata": {
        "id": "KAK0HVKNg8HU",
        "colab_type": "text"
      },
      "source": [
        "We will use RFE with the Logistic Regression classifier to select the top features"
      ]
    },
    {
      "cell_type": "code",
      "metadata": {
        "id": "9xtTrqeRg8HV",
        "colab_type": "code",
        "outputId": "ffbcf4e9-609a-477e-f30d-12c11b73625d",
        "colab": {
          "base_uri": "https://localhost:8080/",
          "height": 141
        }
      },
      "source": [
        "dataset_cleaned_vars=dataset_cleaned.columns.values.tolist()\n",
        "from sklearn.feature_selection import RFE\n",
        "from sklearn.linear_model import LogisticRegression\n",
        "logreg = LogisticRegression()\n",
        "rfe = RFE(logreg, 20)\n",
        "rfe = rfe.fit(X, Y)\n",
        "print(\"Feature selected: %s\" %rfe.support_)\n",
        "print(\"Feature Ranking: %s\" % rfe.ranking_)\n",
        "print(\"the number of features: %s\" % rfe.n_features_)\n",
        "#print(\"Num Features: %s\" % (fit.n_features_))\n",
        "#print(\"Selected Features: %s\" % (fit.support_))\n",
        "#print(\"Feature Ranking: %s\" % (fit.ranking_))"
      ],
      "execution_count": 0,
      "outputs": [
        {
          "output_type": "stream",
          "text": [
            "/usr/local/lib/python3.6/dist-packages/sklearn/linear_model/logistic.py:432: FutureWarning: Default solver will be changed to 'lbfgs' in 0.22. Specify a solver to silence this warning.\n",
            "  FutureWarning)\n"
          ],
          "name": "stderr"
        },
        {
          "output_type": "stream",
          "text": [
            "Feature selected: [ True  True  True  True  True  True  True  True  True  True  True  True\n",
            "  True  True  True  True  True  True  True]\n",
            "Feature Ranking: [1 1 1 1 1 1 1 1 1 1 1 1 1 1 1 1 1 1 1]\n",
            "the number of features: 19\n"
          ],
          "name": "stdout"
        }
      ]
    },
    {
      "cell_type": "markdown",
      "metadata": {
        "id": "HAj0f2O6g8HX",
        "colab_type": "text"
      },
      "source": [
        "Based on the test performed it is clear that most of the features have to participate in the prediction process. These are marked True in the support array and marked with a choice “1” in the ranking array. This, in turn, indicates the strength of these features. \n",
        "\n",
        "However, additional test can be done in order to select relavant features. "
      ]
    },
    {
      "cell_type": "markdown",
      "metadata": {
        "id": "dKzgIUYKg8HY",
        "colab_type": "text"
      },
      "source": [
        "## 2. Step Backwards Feature Selection\n"
      ]
    },
    {
      "cell_type": "markdown",
      "metadata": {
        "id": "dx__bBlUg8HZ",
        "colab_type": "text"
      },
      "source": [
        "The performance metric used here to evaluate feature performance is pvalue. If the pvalue is above 0.05 then we remove the feature, else we keep it."
      ]
    },
    {
      "cell_type": "code",
      "metadata": {
        "id": "E8G_AYJ1g8Ha",
        "colab_type": "code",
        "outputId": "7234576e-d20c-4e91-813d-c4eb1d877d04",
        "colab": {
          "base_uri": "https://localhost:8080/",
          "height": 660
        }
      },
      "source": [
        "import statsmodels.api as sm\n",
        "logit_model=sm.Logit(Y,X)\n",
        "result=logit_model.fit()\n",
        "print(result.summary2())"
      ],
      "execution_count": 0,
      "outputs": [
        {
          "output_type": "stream",
          "text": [
            "Optimization terminated successfully.\n",
            "         Current function value: 0.645866\n",
            "         Iterations 5\n",
            "                          Results: Logit\n",
            "==================================================================\n",
            "Model:              Logit            Pseudo R-squared: 0.067      \n",
            "Dependent Variable: y                AIC:              566146.1826\n",
            "Date:               2019-12-30 06:51 BIC:              566355.0032\n",
            "No. Observations:   438255           Log-Likelihood:   -2.8305e+05\n",
            "Df Model:           18               LL-Null:          -3.0341e+05\n",
            "Df Residuals:       438236           LLR p-value:      0.0000     \n",
            "Converged:          1.0000           Scale:            1.0000     \n",
            "No. Iterations:     5.0000                                        \n",
            "--------------------------------------------------------------------\n",
            "          Coef.    Std.Err.       z       P>|z|     [0.025    0.975]\n",
            "--------------------------------------------------------------------\n",
            "x1       -0.0425     0.0048     -8.8008   0.0000   -0.0520   -0.0330\n",
            "x2       -1.1935     0.0171    -69.6823   0.0000   -1.2270   -1.1599\n",
            "x3       -0.4847     0.0040   -122.3337   0.0000   -0.4924   -0.4769\n",
            "x4        0.0660     0.0106      6.2334   0.0000    0.0453    0.0868\n",
            "x5        0.0003     0.0000     16.3362   0.0000    0.0003    0.0004\n",
            "x6       -0.0408     0.0076     -5.3544   0.0000   -0.0557   -0.0259\n",
            "x7        0.0001     0.0000      2.9461   0.0032    0.0000    0.0001\n",
            "x8        0.0040     0.0002     19.0263   0.0000    0.0036    0.0044\n",
            "x9       -0.0001     0.0000     -2.0290   0.0425   -0.0001   -0.0000\n",
            "x10       0.1081     0.0032     33.8057   0.0000    0.1018    0.1143\n",
            "x11      -0.1110     0.0054    -20.4039   0.0000   -0.1217   -0.1003\n",
            "x12       0.0004     0.0000     11.9648   0.0000    0.0003    0.0004\n",
            "x13       0.0001     0.0000     17.9853   0.0000    0.0000    0.0001\n",
            "x14      -0.0043     0.0002    -28.4826   0.0000   -0.0046   -0.0040\n",
            "x15       0.0000     0.0000     44.3128   0.0000    0.0000    0.0000\n",
            "x16       0.0123     0.0002     51.9550   0.0000    0.0118    0.0127\n",
            "x17      -0.0001     0.0000     -6.4925   0.0000   -0.0001   -0.0001\n",
            "x18      -0.0001     0.0000     -8.3539   0.0000   -0.0001   -0.0001\n",
            "x19       0.3420     0.0068     49.9922   0.0000    0.3286    0.3555\n",
            "==================================================================\n",
            "\n"
          ],
          "name": "stdout"
        }
      ]
    },
    {
      "cell_type": "code",
      "metadata": {
        "id": "bzyIBrbsg8Hd",
        "colab_type": "code",
        "colab": {}
      },
      "source": [
        ""
      ],
      "execution_count": 0,
      "outputs": []
    },
    {
      "cell_type": "code",
      "metadata": {
        "id": "WTYS-_RMg8Hf",
        "colab_type": "code",
        "colab": {}
      },
      "source": [
        "#!pip3 install mlxtend  "
      ],
      "execution_count": 0,
      "outputs": []
    },
    {
      "cell_type": "markdown",
      "metadata": {
        "id": "eyzMHvmHg8Hg",
        "colab_type": "text"
      },
      "source": [
        "##### The p-values for most of the variables are smaller than 0.05, except one variable, therefore, we will remove it. This variable is \"applicant_ethnicity\""
      ]
    },
    {
      "cell_type": "markdown",
      "metadata": {
        "id": "Tk6ciqNlg8Hh",
        "colab_type": "text"
      },
      "source": [
        "#### After perfectly chosen the right features to use in this prediction, we proceeded in implementing the logistic model. However, \n",
        "\n",
        "#### we started by splitting the data into training and testing data in order to prepare and adapt the data to the system \n",
        "\n",
        "#### implementation."
      ]
    },
    {
      "cell_type": "markdown",
      "metadata": {
        "id": "wvXPVi1Wg8Hh",
        "colab_type": "text"
      },
      "source": [
        "###  Splitting the data into the training and testing data"
      ]
    },
    {
      "cell_type": "code",
      "metadata": {
        "id": "H2URc27xg8Hi",
        "colab_type": "code",
        "colab": {}
      },
      "source": [
        "from sklearn.model_selection import train_test_split\n",
        "X_train, X_test, Y_train, Y_test = train_test_split(X, Y, test_size=0.20, random_state=1)\n"
      ],
      "execution_count": 0,
      "outputs": []
    },
    {
      "cell_type": "markdown",
      "metadata": {
        "id": "T7JJ9qBVg8Hk",
        "colab_type": "text"
      },
      "source": [
        "we split $80\\%$ of the data into training set while $20\\%$ of the data to test set using below code."
      ]
    },
    {
      "cell_type": "code",
      "metadata": {
        "id": "TEELfMRhg8Hk",
        "colab_type": "code",
        "outputId": "9020a9c3-ec01-45e2-e160-b646d571cf10",
        "colab": {
          "base_uri": "https://localhost:8080/",
          "height": 34
        }
      },
      "source": [
        "X_train.shape"
      ],
      "execution_count": 0,
      "outputs": [
        {
          "output_type": "execute_result",
          "data": {
            "text/plain": [
              "(350604, 19)"
            ]
          },
          "metadata": {
            "tags": []
          },
          "execution_count": 86
        }
      ]
    },
    {
      "cell_type": "code",
      "metadata": {
        "id": "VJzI0ElDg8Hm",
        "colab_type": "code",
        "outputId": "fa909a0f-b452-46fe-f375-3edb4a0f91b8",
        "colab": {
          "base_uri": "https://localhost:8080/",
          "height": 34
        }
      },
      "source": [
        "Y_train.shape"
      ],
      "execution_count": 0,
      "outputs": [
        {
          "output_type": "execute_result",
          "data": {
            "text/plain": [
              "(350604,)"
            ]
          },
          "metadata": {
            "tags": []
          },
          "execution_count": 87
        }
      ]
    },
    {
      "cell_type": "code",
      "metadata": {
        "id": "TCDbwR-kg8Hr",
        "colab_type": "code",
        "outputId": "d40c2092-db85-4cec-cef7-37070ab7f705",
        "colab": {
          "base_uri": "https://localhost:8080/",
          "height": 34
        }
      },
      "source": [
        "X_test.shape"
      ],
      "execution_count": 0,
      "outputs": [
        {
          "output_type": "execute_result",
          "data": {
            "text/plain": [
              "(87651, 19)"
            ]
          },
          "metadata": {
            "tags": []
          },
          "execution_count": 88
        }
      ]
    },
    {
      "cell_type": "code",
      "metadata": {
        "id": "Gh2xp2HNg8Ht",
        "colab_type": "code",
        "outputId": "6ebdffc4-7c0e-47f3-b525-2ea4e7386263",
        "colab": {
          "base_uri": "https://localhost:8080/",
          "height": 34
        }
      },
      "source": [
        "Y_test.shape"
      ],
      "execution_count": 0,
      "outputs": [
        {
          "output_type": "execute_result",
          "data": {
            "text/plain": [
              "(87651,)"
            ]
          },
          "metadata": {
            "tags": []
          },
          "execution_count": 89
        }
      ]
    },
    {
      "cell_type": "markdown",
      "metadata": {
        "id": "-jES3iO0g8Hv",
        "colab_type": "text"
      },
      "source": [
        "## Scaling the data. this process was performed in order to normalize the data"
      ]
    },
    {
      "cell_type": "code",
      "metadata": {
        "id": "HmL7dUyVg8Hv",
        "colab_type": "code",
        "outputId": "ddd9f026-dc46-4e89-f38b-81d2fd50e0f2",
        "colab": {
          "base_uri": "https://localhost:8080/",
          "height": 156
        }
      },
      "source": [
        "scaler = preprocessing.StandardScaler().fit(X_train)\n",
        "X_train = scaler.transform(X_train)\n",
        "X_test = scaler.transform(X_test)\n",
        "X_train[:2,]"
      ],
      "execution_count": 0,
      "outputs": [
        {
          "output_type": "execute_result",
          "data": {
            "text/plain": [
              "array([[ 1.02111381, -0.19475283,  0.99391477, -0.32702794, -0.23497574,\n",
              "         0.41305369, -0.07134216, -0.17619695, -0.51941586,  0.23536504,\n",
              "        -0.6907991 , -0.19073496, -0.18334384, -0.59748234, -1.13929136,\n",
              "         0.57037416, -0.65348725, -0.45359604,  1.20285717],\n",
              "       [-0.48793435, -0.19475283,  0.99391477, -0.32702794, -0.00541578,\n",
              "         0.41305369,  0.8713285 , -0.24063737,  0.3615226 ,  0.23536504,\n",
              "         0.91531327, -0.02235118,  0.31664688, -0.67951939,  0.16925827,\n",
              "         0.57037416,  0.4140717 ,  0.13198255,  1.20285717]])"
            ]
          },
          "metadata": {
            "tags": []
          },
          "execution_count": 90
        }
      ]
    },
    {
      "cell_type": "markdown",
      "metadata": {
        "id": "2aV5NgvSg8Hx",
        "colab_type": "text"
      },
      "source": [
        "# Building our Logistic regression model"
      ]
    },
    {
      "cell_type": "markdown",
      "metadata": {
        "id": "ka4pDFVig8Hy",
        "colab_type": "text"
      },
      "source": [
        "### Logistic Regression process\n",
        "\n",
        "\n",
        "Given a $data(X,Y)$, X being a matrix of values with m examples (19 in our case of study after selecting the best features) and n features and Y being a vector with m examples (1 target variable \"accepted\" in this particular problem). The objective is to train the model to predict which class the future values belong to. \n",
        "\n",
        "\n",
        "1. Primarily, we create a weight matrix with random initialization. Then we multiply it by features.\n",
        "\n",
        "\n",
        "$$F1 = W_o + W_1X_1+ W_2X_2 + W_3X_3+....+ W_nX_n$$\n",
        "\n",
        "2. We then pass the output obtained from Eq 1. to a link function.\n",
        "\n",
        "$$F(\\hat{y}i) = \\frac{1}{1 + e^{-\\kappa( \\beta_0 + \\beta_1\\ x1)}} $$\n",
        "\n",
        "\n",
        "3. This is followed by calculating the cost for that iteration whose formula is\n",
        "\n",
        "4. The derivative of this cost is calculated following which the weights are updated.\n",
        "\n",
        "However the Logistic regression model for solving this problem will be implemented by  Scikit-learn  in the given code below. This code will compute all the mathematics described above.\n",
        " \n"
      ]
    },
    {
      "cell_type": "code",
      "metadata": {
        "id": "ujrZLB6ag8Hz",
        "colab_type": "code",
        "colab": {}
      },
      "source": [
        "#### Instantiate the Logistic Regression model using default and use fit() function to train your model."
      ],
      "execution_count": 0,
      "outputs": []
    },
    {
      "cell_type": "code",
      "metadata": {
        "id": "iBS2Eck_g8H0",
        "colab_type": "code",
        "outputId": "f36ab8ca-e412-431d-a95a-fbce4679891a",
        "colab": {
          "base_uri": "https://localhost:8080/",
          "height": 72
        }
      },
      "source": [
        "from sklearn.linear_model import LogisticRegression\n",
        "\n",
        "logistic_mod1 = linear_model.LogisticRegression() \n",
        "logistic_mod=logistic_mod1.fit(X_train, Y_train)"
      ],
      "execution_count": 0,
      "outputs": [
        {
          "output_type": "stream",
          "text": [
            "/usr/local/lib/python3.6/dist-packages/sklearn/linear_model/logistic.py:432: FutureWarning: Default solver will be changed to 'lbfgs' in 0.22. Specify a solver to silence this warning.\n",
            "  FutureWarning)\n"
          ],
          "name": "stderr"
        }
      ]
    },
    {
      "cell_type": "code",
      "metadata": {
        "id": "ac0s6A7bg8H2",
        "colab_type": "code",
        "colab": {}
      },
      "source": [
        ""
      ],
      "execution_count": 0,
      "outputs": []
    },
    {
      "cell_type": "markdown",
      "metadata": {
        "id": "xyPuloAAg8H3",
        "colab_type": "text"
      },
      "source": [
        "#### Now, print and examine the model coefficients by executing the code in the cell below. "
      ]
    },
    {
      "cell_type": "code",
      "metadata": {
        "id": "DVCFLNumg8H6",
        "colab_type": "code",
        "outputId": "3be6914b-5765-4f7e-b2a1-71a9bc5a4670",
        "colab": {
          "base_uri": "https://localhost:8080/",
          "height": 104
        }
      },
      "source": [
        "print(logistic_mod.intercept_)\n",
        "print(logistic_mod.coef_)"
      ],
      "execution_count": 0,
      "outputs": [
        {
          "output_type": "stream",
          "text": [
            "[0.09200644]\n",
            "[[-0.05357246 -0.26343024 -0.45730814 -0.00528296  0.07720718 -0.04905374\n",
            "   0.00696385  0.05757348 -0.01067683  0.07579311 -0.07489059  0.05689833\n",
            "   0.14003206 -0.15272534  0.10767421  0.11287501 -0.03011715 -0.10492251\n",
            "   0.16472485]]\n"
          ],
          "name": "stdout"
        }
      ]
    },
    {
      "cell_type": "markdown",
      "metadata": {
        "id": "MBECWgybg8H9",
        "colab_type": "text"
      },
      "source": [
        "####  We notice that model coefficients look similar to that of a regression model. \n",
        "\n",
        "Recall that the logistic regression model outputs probabilities for each class. The class with the highest probability is taken as the score (prediction). Execute the code and the cell below to compute and display a sample of these class probabilities for the test feature set. \n",
        "\n",
        "What logistic regression does is that it calculates a conditional probability.\n",
        "\n",
        "1. Probability for class 1\n",
        "\n",
        "$$P(Y=1|X;W)$$\n",
        "\n",
        "2. Probability for class 0\n",
        "\n",
        "$$P(Y=0|X;W)$$\n"
      ]
    },
    {
      "cell_type": "code",
      "metadata": {
        "id": "7gos4RSeg8H9",
        "colab_type": "code",
        "outputId": "73e4b557-7e24-4bad-ad38-88d722a3f348",
        "colab": {
          "base_uri": "https://localhost:8080/",
          "height": 278
        }
      },
      "source": [
        "probabilities = logistic_mod.predict_proba(X_test)\n",
        "print(probabilities[:15,:])"
      ],
      "execution_count": 0,
      "outputs": [
        {
          "output_type": "stream",
          "text": [
            "[[0.56187739 0.43812261]\n",
            " [0.65600283 0.34399717]\n",
            " [0.38232127 0.61767873]\n",
            " [0.43778626 0.56221374]\n",
            " [0.69897173 0.30102827]\n",
            " [0.55425922 0.44574078]\n",
            " [0.51452969 0.48547031]\n",
            " [0.6275191  0.3724809 ]\n",
            " [0.72451071 0.27548929]\n",
            " [0.38053806 0.61946194]\n",
            " [0.44989077 0.55010923]\n",
            " [0.30661456 0.69338544]\n",
            " [0.65270623 0.34729377]\n",
            " [0.59379619 0.40620381]\n",
            " [0.66250443 0.33749557]]\n"
          ],
          "name": "stdout"
        }
      ]
    },
    {
      "cell_type": "markdown",
      "metadata": {
        "id": "F7XLIlWvg8IA",
        "colab_type": "text"
      },
      "source": [
        " #### Logistic regression model outputs probabilities for each class. We take the class with the highest probability as the score (prediction).\n",
        "\n",
        "In this case study, we deal with two classes 1 and 0. Therefore, the threshold is 0.5.\n",
        "\n",
        "if $P(Y=0) > 0.5$ then obviously $P(Y=0) > P(Y=1)$. The same stands for the multiclass setting: again, it chooses the class with the biggest probability."
      ]
    },
    {
      "cell_type": "code",
      "metadata": {
        "id": "0KYmFFJIg8IB",
        "colab_type": "code",
        "outputId": "f9e0ad2f-7b4e-49c4-f62f-65865119bdae",
        "colab": {
          "base_uri": "https://localhost:8080/",
          "height": 52
        }
      },
      "source": [
        "def score_model(probs, threshold):\n",
        "    return np.array([1 if x > threshold else 0 for x in probs[:,1]])\n",
        "scores = score_model(probabilities, 0.5)\n",
        "print(np.array(scores))\n",
        "print(Y_test)"
      ],
      "execution_count": 0,
      "outputs": [
        {
          "output_type": "stream",
          "text": [
            "[0 0 1 ... 0 1 1]\n",
            "[1 0 0 ... 1 0 1]\n"
          ],
          "name": "stdout"
        }
      ]
    },
    {
      "cell_type": "markdown",
      "metadata": {
        "id": "bu0L9F_2g8IF",
        "colab_type": "text"
      },
      "source": [
        "# Model Evaluation using Confusion Matrix"
      ]
    },
    {
      "cell_type": "markdown",
      "metadata": {
        "id": "1DKkL7YYg8IG",
        "colab_type": "text"
      },
      "source": [
        " **We use confusion matrix to evaluate the performance of our model by laying out the correctly and incorrectly classified cases in a tabular format** \n",
        "\n",
        "  There are various metrics derived from the values in the confusion matrix. We review some of the common cases below. \n",
        "\n",
        "**Confusion matrix**\n",
        "\n",
        "For our binary case the confusion matrix is organized as follows:\n",
        "\n",
        "| | **Scored Positive** | **Scored Negative**|  \n",
        "|------|:------:|:------:| \n",
        "|**Actual Positive** | True Positive | False Negative |\n",
        "|**Actual Negative**| False Positive | True Negative |   \n",
        "\n",
        "Here the four elements in the matrix are defined as:    \n",
        "\n",
        "$\\bullet$ true positives (TP): These are cases in which we predicted yes and are actually yes.\n",
        "\n",
        "$\\bullet$true negatives (TN): We predicted no, and no in actual.\n",
        "\n",
        "$\\bullet$false positives (FP): We predicted yes, but actual is no. (Type I error)\n",
        "\n",
        "$\\bullet$false negatives (FN): We predicted no, yes in actual. (Type II error)\n",
        "\n",
        "**Accuracy**\n",
        "\n",
        "Accuracy is the fraction of cases correctly classified. For this case accuracy is written as\n",
        "\n",
        "$$Accuracy = \\frac{TP+TN}{TP+FP+TN+FN}$$ \n",
        "\n",
        "**Precision**\n",
        "\n",
        "Precision is the fraction of correctly classified label cases out of all cases classified with that label value. We can express precision by the following relationship:\n",
        "\n",
        "$$Precision = \\frac{M_{i,i}}{\\sum_j M_{i,j}}$$\n",
        "\n",
        "We can say that the precision statistic is the number of correctly classified cases for the label value divided by all the cases in the column. Thus, precision is sensitive to the number of cases correctly classified for a given score value. \n",
        "\n",
        "**Recall**  \n",
        "\n",
        "Recall is the fraction of cases of a label value correctly classified out of all cases that actually have that label value. We can express recall by the following relationship:\n",
        "\n",
        "$$Recall = \\frac{M_{i,i}}{\\sum_i M_{i,j}}$$\n",
        "\n",
        "We can say that the recall statistic is the number of correctly classified cases for the label value divided by all the cases in the row. Thus, precision is sensitive to the number of cases correctly classified for a given true label value. \n",
        "\n",
        "**F1**\n",
        "\n",
        "The F1 statistic is weighted average of precision and recall. We can express F1 by the following relationship:\n",
        "\n",
        "$$F1 = 2 * \\frac{precision * recall}{precision + recall}$$\n",
        "\n",
        "Said differenlty, F1 is a weighted metric for overall model performance. \n",
        "\n",
        "**ROC** and **AUC**\n",
        "\n",
        "the ROC curve compares the model true positive and false positive rates to the ones from a random assignation. If the model roc is above the baseline, then the model is better than random assignation."
      ]
    },
    {
      "cell_type": "markdown",
      "metadata": {
        "id": "lxc3chbXg8IG",
        "colab_type": "text"
      },
      "source": [
        "The code in the cell below implements a function that computes and displays the forementioned classifier performance metrics. The code metrics are computed using the precision_recall_fscore_support and accuracy_score functions from the metrics package of scikit-learn. The confusion matrix is computed using the confusion_matrix function from this same package. We execute this code and examine the results for the logistic regression model. "
      ]
    },
    {
      "cell_type": "code",
      "metadata": {
        "id": "wgW2h3Log8II",
        "colab_type": "code",
        "colab": {}
      },
      "source": [
        "y_pred=logistic_mod.predict(X_test)"
      ],
      "execution_count": 0,
      "outputs": []
    },
    {
      "cell_type": "code",
      "metadata": {
        "id": "eKHDfnu0g8IJ",
        "colab_type": "code",
        "outputId": "710d18f9-af1f-425e-a11c-3ddb653c5d35",
        "colab": {
          "base_uri": "https://localhost:8080/",
          "height": 52
        }
      },
      "source": [
        "# import the metrics class\n",
        "from sklearn import metrics\n",
        "cnf_matrix = metrics.confusion_matrix(Y_test, y_pred)\n",
        "cnf_matrix"
      ],
      "execution_count": 0,
      "outputs": [
        {
          "output_type": "execute_result",
          "data": {
            "text/plain": [
              "array([[25432, 16876],\n",
              "       [15245, 30098]])"
            ]
          },
          "metadata": {
            "tags": []
          },
          "execution_count": 97
        }
      ]
    },
    {
      "cell_type": "markdown",
      "metadata": {
        "id": "_uP68WEEg8IK",
        "colab_type": "text"
      },
      "source": [
        "# Visualizing Confusion Matrix using Heatmap"
      ]
    },
    {
      "cell_type": "code",
      "metadata": {
        "id": "vdzyh_Spg8IK",
        "colab_type": "code",
        "colab": {}
      },
      "source": [
        "import numpy as np\n",
        "import matplotlib.pyplot as plt\n",
        "import seaborn as sns\n",
        "%matplotlib inline"
      ],
      "execution_count": 0,
      "outputs": []
    },
    {
      "cell_type": "code",
      "metadata": {
        "id": "gLN2NHc2g8IM",
        "colab_type": "code",
        "outputId": "f608b737-134a-4b92-f8d4-f8bc40e4ad04",
        "colab": {
          "base_uri": "https://localhost:8080/",
          "height": 340
        }
      },
      "source": [
        "class_names=[0,1] # name  of classes\n",
        "fig, ax = plt.subplots()\n",
        "tick_marks = np.arange(len(class_names))\n",
        "plt.xticks(tick_marks, class_names)\n",
        "plt.yticks(tick_marks, class_names)\n",
        "# create heatmap\n",
        "sns.heatmap(pd.DataFrame(cnf_matrix), annot=True, cmap=\"YlGnBu\" ,fmt='g')\n",
        "ax.xaxis.set_label_position(\"top\")\n",
        "plt.tight_layout()\n",
        "plt.title('Confusion matrix', y=1.1)\n",
        "plt.ylabel('Actual label')\n",
        "plt.xlabel('Predicted label')"
      ],
      "execution_count": 0,
      "outputs": [
        {
          "output_type": "execute_result",
          "data": {
            "text/plain": [
              "Text(0.5, 257.44, 'Predicted label')"
            ]
          },
          "metadata": {
            "tags": []
          },
          "execution_count": 99
        },
        {
          "output_type": "display_data",
          "data": {
            "image/png": "[encoded data removed]",
            "text/plain": [
              "<Figure size 432x288 with 2 Axes>"
            ]
          },
          "metadata": {
            "tags": []
          }
        }
      ]
    },
    {
      "cell_type": "markdown",
      "metadata": {
        "id": "mICpmuB-g8IN",
        "colab_type": "text"
      },
      "source": [
        "# Results discussion\n",
        "\n",
        "$\\bullet$ true positives (TP): 25431 have beeen predicted at true positives.\n",
        "\n",
        "$\\bullet$true negatives (TN): 16877 have beeen predicted at true negatives.\n",
        "\n",
        "$\\bullet$false positives (FP):  15244 have beeen predicted at false positives.\n",
        "\n",
        "$\\bullet$false negatives (FN): 30099 have beeen predicted at false negatives.\n"
      ]
    },
    {
      "cell_type": "code",
      "metadata": {
        "id": "SbTRgNDJg8IO",
        "colab_type": "code",
        "outputId": "eb681847-d866-4501-caac-3e868738d9d3",
        "colab": {
          "base_uri": "https://localhost:8080/",
          "height": 69
        }
      },
      "source": [
        "print(\"Accuracy of the model:\",metrics.accuracy_score(Y_test, y_pred))\n",
        "print(\"Precision of the model:\",metrics.precision_score(Y_test, y_pred))\n",
        "print(\"Recall:\",metrics.recall_score(Y_test, y_pred))"
      ],
      "execution_count": 0,
      "outputs": [
        {
          "output_type": "stream",
          "text": [
            "Accuracy of the model: 0.6335352705616593\n",
            "Precision of the model: 0.6407374292161622\n",
            "Recall: 0.6637849282138367\n"
          ],
          "name": "stdout"
        }
      ]
    },
    {
      "cell_type": "code",
      "metadata": {
        "id": "W-b_TNvPg8IP",
        "colab_type": "code",
        "colab": {}
      },
      "source": [
        ""
      ],
      "execution_count": 0,
      "outputs": []
    },
    {
      "cell_type": "markdown",
      "metadata": {
        "colab_type": "text",
        "id": "ZRDKLuwp2Ctk"
      },
      "source": [
        "## ROC and Precision-Recall curves"
      ]
    },
    {
      "cell_type": "code",
      "metadata": {
        "id": "gAwBEcLCg8IQ",
        "colab_type": "code",
        "outputId": "dc8526d1-edc0-4336-92f5-623cd942faa9",
        "colab": {
          "base_uri": "https://localhost:8080/",
          "height": 295
        }
      },
      "source": [
        "def plot_auc(labels, probs):\n",
        "    ## Compute the false positive rate, true positive rate\n",
        "    ## and threshold along with the AUC\n",
        "    fpr, tpr, threshold = sklm.roc_curve(labels, probs[:,1])\n",
        "    auc = sklm.auc(fpr, tpr)\n",
        "    \n",
        "    ## Plot the result\n",
        "    plt.title('Receiver Operating Characteristic')\n",
        "    plt.plot(fpr, tpr, color = 'orange', label = 'AUC = %0.2f' % auc)\n",
        "    plt.legend(loc = 'lower right')\n",
        "    plt.plot([0, 1], [0, 1],'r--')\n",
        "    plt.xlim([0, 1])\n",
        "    plt.ylim([0, 1])\n",
        "    plt.ylabel('True Positive Rate')\n",
        "    plt.xlabel('False Positive Rate')\n",
        "    plt.show()\n",
        "    \n",
        "plot_auc(Y_test, probabilities)    "
      ],
      "execution_count": 0,
      "outputs": [
        {
          "output_type": "display_data",
          "data": {
            "image/png": "[encoded data removed]",
            "text/plain": [
              "<Figure size 432x288 with 1 Axes>"
            ]
          },
          "metadata": {
            "tags": []
          }
        }
      ]
    },
    {
      "cell_type": "code",
      "metadata": {
        "id": "SpS3BNmng8IS",
        "colab_type": "code",
        "colab": {}
      },
      "source": [
        ""
      ],
      "execution_count": 0,
      "outputs": []
    },
    {
      "cell_type": "code",
      "metadata": {
        "id": "8N1p5oO6g8IT",
        "colab_type": "code",
        "colab": {}
      },
      "source": [
        ""
      ],
      "execution_count": 0,
      "outputs": []
    },
    {
      "cell_type": "markdown",
      "metadata": {
        "id": "hB3T_ks3g8IU",
        "colab_type": "text"
      },
      "source": [
        "## Computing a weighted model\n",
        "\n",
        "The accuracy computed is too small for this prediction and by making an analysis on the confusion model, we observe that so many errors occur during the training process. One approach to these problems is to weight the classes when computing the logistic regression model. The code in the cell below adds a `class_weight` argument to the call to the `LogisticRegression` function. In this case weights are chosen as $0.99, 0.99$  but you can also give another combination. "
      ]
    },
    {
      "cell_type": "code",
      "metadata": {
        "id": "F36KUuE_g8IV",
        "colab_type": "code",
        "outputId": "9b7d3c8e-3586-499b-9c67-154fde1ba97e",
        "colab": {
          "base_uri": "https://localhost:8080/",
          "height": 159
        }
      },
      "source": [
        "logistic_mod = linear_model.LogisticRegression(class_weight = {0:0.99, 1:0.99}) \n",
        "logistic_mod.fit(X_train, Y_train)"
      ],
      "execution_count": 0,
      "outputs": [
        {
          "output_type": "stream",
          "text": [
            "/usr/local/lib/python3.6/dist-packages/sklearn/linear_model/logistic.py:432: FutureWarning: Default solver will be changed to 'lbfgs' in 0.22. Specify a solver to silence this warning.\n",
            "  FutureWarning)\n"
          ],
          "name": "stderr"
        },
        {
          "output_type": "execute_result",
          "data": {
            "text/plain": [
              "LogisticRegression(C=1.0, class_weight={0: 0.99, 1: 0.99}, dual=False,\n",
              "                   fit_intercept=True, intercept_scaling=1, l1_ratio=None,\n",
              "                   max_iter=100, multi_class='warn', n_jobs=None, penalty='l2',\n",
              "                   random_state=None, solver='warn', tol=0.0001, verbose=0,\n",
              "                   warm_start=False)"
            ]
          },
          "metadata": {
            "tags": []
          },
          "execution_count": 102
        }
      ]
    },
    {
      "cell_type": "markdown",
      "metadata": {
        "id": "FDrtMgi4g8IW",
        "colab_type": "text"
      },
      "source": [
        "##### Next,  we execute the code in the cell below to compute and display the class probabilities for each case. "
      ]
    },
    {
      "cell_type": "code",
      "metadata": {
        "id": "rZPhDy94g8IW",
        "colab_type": "code",
        "outputId": "fe77d63c-6c38-42db-e4f2-d04039ad417e",
        "colab": {
          "base_uri": "https://localhost:8080/",
          "height": 278
        }
      },
      "source": [
        "probabilities = logistic_mod.predict_proba(X_test)\n",
        "print(probabilities[:15,:])"
      ],
      "execution_count": 0,
      "outputs": [
        {
          "output_type": "stream",
          "text": [
            "[[0.5618774  0.4381226 ]\n",
            " [0.65600283 0.34399717]\n",
            " [0.38232128 0.61767872]\n",
            " [0.43778628 0.56221372]\n",
            " [0.6989717  0.3010283 ]\n",
            " [0.55425922 0.44574078]\n",
            " [0.51452968 0.48547032]\n",
            " [0.62751909 0.37248091]\n",
            " [0.72451069 0.27548931]\n",
            " [0.38053806 0.61946194]\n",
            " [0.44989075 0.55010925]\n",
            " [0.30661461 0.69338539]\n",
            " [0.6527062  0.3472938 ]\n",
            " [0.59379617 0.40620383]\n",
            " [0.6625044  0.3374956 ]]\n"
          ],
          "name": "stdout"
        }
      ]
    },
    {
      "cell_type": "code",
      "metadata": {
        "id": "MiEKCBwlg8IZ",
        "colab_type": "code",
        "colab": {}
      },
      "source": [
        ""
      ],
      "execution_count": 0,
      "outputs": []
    },
    {
      "cell_type": "markdown",
      "metadata": {
        "id": "Afe1Op8EiYuA",
        "colab_type": "text"
      },
      "source": [
        "## AUC curves"
      ]
    },
    {
      "cell_type": "code",
      "metadata": {
        "id": "1pwflx-0g8IZ",
        "colab_type": "code",
        "outputId": "101e105a-4de2-435d-90ca-3b540098e058",
        "colab": {
          "base_uri": "https://localhost:8080/",
          "height": 295
        }
      },
      "source": [
        "scores = score_model(probabilities, 0.5)\n",
        "#print_metrics(Y_test, scores)  \n",
        "plot_auc(Y_test, probabilities)  "
      ],
      "execution_count": 0,
      "outputs": [
        {
          "output_type": "display_data",
          "data": {
            "image/png": "[encoded data removed]",
            "text/plain": [
              "<Figure size 432x288 with 1 Axes>"
            ]
          },
          "metadata": {
            "tags": []
          }
        }
      ]
    },
    {
      "cell_type": "markdown",
      "metadata": {
        "id": "5_YUo6bng8Ia",
        "colab_type": "text"
      },
      "source": [
        "#### After changing the weights of the two classes we almost obatined the same accuracy "
      ]
    },
    {
      "cell_type": "code",
      "metadata": {
        "id": "-yc5Chomg8Ib",
        "colab_type": "code",
        "colab": {}
      },
      "source": [
        ""
      ],
      "execution_count": 0,
      "outputs": []
    },
    {
      "cell_type": "markdown",
      "metadata": {
        "id": "EQsS8Xysg8Ic",
        "colab_type": "text"
      },
      "source": [
        "# Deep Learning Model"
      ]
    },
    {
      "cell_type": "markdown",
      "metadata": {
        "id": "-eRHgZ1gg8Ic",
        "colab_type": "text"
      },
      "source": [
        "Looking at the low performance provided by the classical method in solving this problem"
      ]
    },
    {
      "cell_type": "markdown",
      "metadata": {
        "id": "rnvx68FHg8Id",
        "colab_type": "text"
      },
      "source": [
        "## Designing the deep learning model"
      ]
    },
    {
      "cell_type": "code",
      "metadata": {
        "id": "7qoWzeACg8Ie",
        "colab_type": "code",
        "colab": {}
      },
      "source": [
        "X_train, X_val, Y_train, Y_val = train_test_split(X_train, Y_train, test_size=0.30, random_state=1)"
      ],
      "execution_count": 0,
      "outputs": []
    },
    {
      "cell_type": "code",
      "metadata": {
        "id": "SyXNRHQOg8Ig",
        "colab_type": "code",
        "outputId": "2cf82f46-45d5-44bd-959e-735230612aa8",
        "colab": {}
      },
      "source": [
        "classes = np.unique(Y_test)\n",
        "nClasses = len(classes)\n",
        "print('Total number of outputs : ', nClasses)\n",
        "print('Output classes : ', classes)"
      ],
      "execution_count": 0,
      "outputs": [
        {
          "output_type": "stream",
          "text": [
            "Total number of outputs :  2\n",
            "Output classes :  [0 1]\n"
          ],
          "name": "stdout"
        }
      ]
    },
    {
      "cell_type": "code",
      "metadata": {
        "id": "JX_DaATJg8Ih",
        "colab_type": "code",
        "colab": {}
      },
      "source": [
        "Y_train = np_utils.to_categorical(Y_train, 2)\n",
        "Y_test = np_utils.to_categorical(Y_test, 2)\n",
        "Y_val = np_utils.to_categorical(Y_val, 2)"
      ],
      "execution_count": 0,
      "outputs": []
    },
    {
      "cell_type": "code",
      "metadata": {
        "id": "MqikuvkBg8Ii",
        "colab_type": "code",
        "outputId": "81394a36-17a0-4602-a7c4-f2230d128186",
        "colab": {}
      },
      "source": [
        "Y_train.shape"
      ],
      "execution_count": 0,
      "outputs": [
        {
          "output_type": "execute_result",
          "data": {
            "text/plain": [
              "(245422, 2)"
            ]
          },
          "metadata": {
            "tags": []
          },
          "execution_count": 101
        }
      ]
    },
    {
      "cell_type": "code",
      "metadata": {
        "id": "0F3WAroQg8Ik",
        "colab_type": "code",
        "outputId": "286ef903-37b1-462f-b60f-0cdbfdb894be",
        "colab": {}
      },
      "source": [
        "Y_test.shape"
      ],
      "execution_count": 0,
      "outputs": [
        {
          "output_type": "execute_result",
          "data": {
            "text/plain": [
              "(87651, 2)"
            ]
          },
          "metadata": {
            "tags": []
          },
          "execution_count": 102
        }
      ]
    },
    {
      "cell_type": "code",
      "metadata": {
        "id": "3SkHEx4Mg8Il",
        "colab_type": "code",
        "outputId": "71155237-e6d0-49fe-a5a1-c358f2438303",
        "colab": {}
      },
      "source": [
        "Y_val.shape"
      ],
      "execution_count": 0,
      "outputs": [
        {
          "output_type": "execute_result",
          "data": {
            "text/plain": [
              "(105182, 2)"
            ]
          },
          "metadata": {
            "tags": []
          },
          "execution_count": 103
        }
      ]
    },
    {
      "cell_type": "code",
      "metadata": {
        "id": "Fiehl3CAg8Im",
        "colab_type": "code",
        "colab": {}
      },
      "source": [
        "def network():\n",
        "  \n",
        "    \n",
        "    model = Sequential() # Initializing the sequence\n",
        "\n",
        "    model.add(Dense(30, input_dim=20, activation='relu'))\n",
        "    #model.add(Dense(11, activation='relu'))\n",
        "    model.add(Dense(10, activation='tanh'))\n",
        "    model.add(Dense(2, activation='softmax'))\n",
        "    # Compile model\n",
        "    model.compile(loss='categorical_crossentropy', \n",
        "                  optimizer='adam', \n",
        "                  metrics=['accuracy'])\n",
        "    \n",
        "    return model"
      ],
      "execution_count": 0,
      "outputs": []
    },
    {
      "cell_type": "markdown",
      "metadata": {
        "id": "I-rDkHnJg8In",
        "colab_type": "text"
      },
      "source": [
        "## Initialise the model"
      ]
    },
    {
      "cell_type": "code",
      "metadata": {
        "id": "QIBKeWzAg8Io",
        "colab_type": "code",
        "colab": {}
      },
      "source": [
        "model=network()"
      ],
      "execution_count": 0,
      "outputs": []
    },
    {
      "cell_type": "markdown",
      "metadata": {
        "id": "pLl0u8ZPg8Ip",
        "colab_type": "text"
      },
      "source": [
        "## Determine the number of trainable parameters"
      ]
    },
    {
      "cell_type": "code",
      "metadata": {
        "id": "sizzl06Ug8Iq",
        "colab_type": "code",
        "outputId": "7e51103d-fec2-412e-d096-914b5264b31a",
        "colab": {}
      },
      "source": [
        "model.summary()"
      ],
      "execution_count": 0,
      "outputs": [
        {
          "output_type": "stream",
          "text": [
            "Model: \"sequential_8\"\n",
            "_________________________________________________________________\n",
            "Layer (type)                 Output Shape              Param #   \n",
            "=================================================================\n",
            "dense_27 (Dense)             (None, 30)                630       \n",
            "_________________________________________________________________\n",
            "dense_28 (Dense)             (None, 10)                310       \n",
            "_________________________________________________________________\n",
            "dense_29 (Dense)             (None, 2)                 22        \n",
            "=================================================================\n",
            "Total params: 962\n",
            "Trainable params: 962\n",
            "Non-trainable params: 0\n",
            "_________________________________________________________________\n"
          ],
          "name": "stdout"
        }
      ]
    },
    {
      "cell_type": "markdown",
      "metadata": {
        "id": "9oVy_a7Eg8Ir",
        "colab_type": "text"
      },
      "source": [
        "## Train the model"
      ]
    },
    {
      "cell_type": "code",
      "metadata": {
        "scrolled": false,
        "id": "78s3WsqGg8Is",
        "colab_type": "code",
        "outputId": "09bbd6cf-19e7-4611-b278-db1f8022d8d7",
        "colab": {}
      },
      "source": [
        "history = model.fit(X_train, Y_train, validation_data = (X_val, Y_val), \n",
        "                    epochs=10, \n",
        "                    batch_size=8, \n",
        "                    verbose=1)"
      ],
      "execution_count": 0,
      "outputs": [
        {
          "output_type": "stream",
          "text": [
            "Train on 245422 samples, validate on 105182 samples\n",
            "Epoch 1/10\n",
            "245422/245422 [==============================] - 34s 137us/step - loss: 0.6940 - accuracy: 0.5146 - val_loss: 0.6924 - val_accuracy: 0.5202\n",
            "Epoch 2/10\n",
            "245422/245422 [==============================] - 34s 137us/step - loss: 0.6932 - accuracy: 0.5151 - val_loss: 0.6956 - val_accuracy: 0.4797\n",
            "Epoch 3/10\n",
            "245422/245422 [==============================] - 33s 134us/step - loss: 0.6931 - accuracy: 0.5142 - val_loss: 0.6923 - val_accuracy: 0.5202\n",
            "Epoch 4/10\n",
            "245422/245422 [==============================] - 41s 169us/step - loss: 0.6932 - accuracy: 0.5147 - val_loss: 0.6925 - val_accuracy: 0.5202\n",
            "Epoch 5/10\n",
            "245422/245422 [==============================] - 51s 208us/step - loss: 0.6933 - accuracy: 0.5147 - val_loss: 0.6927 - val_accuracy: 0.5202\n",
            "Epoch 6/10\n",
            "245422/245422 [==============================] - 56s 230us/step - loss: 0.6931 - accuracy: 0.5147 - val_loss: 0.6933 - val_accuracy: 0.4797\n",
            "Epoch 7/10\n",
            "245422/245422 [==============================] - 52s 212us/step - loss: 0.6932 - accuracy: 0.5147 - val_loss: 0.6954 - val_accuracy: 0.5202\n",
            "Epoch 8/10\n",
            "245422/245422 [==============================] - 50s 202us/step - loss: 0.6932 - accuracy: 0.5148 - val_loss: 0.6932 - val_accuracy: 0.5202\n",
            "Epoch 9/10\n",
            "245422/245422 [==============================] - 49s 198us/step - loss: 0.6933 - accuracy: 0.5127 - val_loss: 0.6927 - val_accuracy: 0.5202\n",
            "Epoch 10/10\n",
            "245422/245422 [==============================] - 48s 195us/step - loss: 0.6932 - accuracy: 0.5134 - val_loss: 0.6924 - val_accuracy: 0.5202\n"
          ],
          "name": "stdout"
        }
      ]
    },
    {
      "cell_type": "markdown",
      "metadata": {
        "id": "qLDNi5Lpg8Iu",
        "colab_type": "text"
      },
      "source": [
        "## Predict classes on validation data"
      ]
    },
    {
      "cell_type": "code",
      "metadata": {
        "id": "RG2BN1xwg8Iv",
        "colab_type": "code",
        "colab": {}
      },
      "source": [
        "prediction_classes = model.predict_classes(X_val)"
      ],
      "execution_count": 0,
      "outputs": []
    },
    {
      "cell_type": "markdown",
      "metadata": {
        "id": "mJ8uVbICg8Iv",
        "colab_type": "text"
      },
      "source": [
        "## Computing the confusion matrix for the validation data"
      ]
    },
    {
      "cell_type": "code",
      "metadata": {
        "id": "IEixgzq4g8Iw",
        "colab_type": "code",
        "outputId": "a7daa9a6-a11d-441e-d340-9fcfb08e9b7a",
        "colab": {}
      },
      "source": [
        "confusion_matrix(np.argmax(Y_val,1), prediction_classes)"
      ],
      "execution_count": 0,
      "outputs": [
        {
          "output_type": "execute_result",
          "data": {
            "text/plain": [
              "array([[    0, 50462],\n",
              "       [    0, 54720]])"
            ]
          },
          "metadata": {
            "tags": []
          },
          "execution_count": 115
        }
      ]
    },
    {
      "cell_type": "markdown",
      "metadata": {
        "id": "7zpothV5g8Ix",
        "colab_type": "text"
      },
      "source": [
        "### Computing the accuracy and this simply test the trained model on the validation data and printout the accuracy for the model to predict "
      ]
    },
    {
      "cell_type": "code",
      "metadata": {
        "id": "7akxgy59g8Iy",
        "colab_type": "code",
        "outputId": "64e469cb-5029-49b2-ec58-aea55de59367",
        "colab": {}
      },
      "source": [
        "accuracy_score(np.argmax(Y_val,1), prediction_classes)"
      ],
      "execution_count": 0,
      "outputs": [
        {
          "output_type": "execute_result",
          "data": {
            "text/plain": [
              "0.5202411058926433"
            ]
          },
          "metadata": {
            "tags": []
          },
          "execution_count": 116
        }
      ]
    },
    {
      "cell_type": "markdown",
      "metadata": {
        "id": "FUI-UM_rg8Iz",
        "colab_type": "text"
      },
      "source": [
        "## Plot the training Accuracy"
      ]
    },
    {
      "cell_type": "code",
      "metadata": {
        "id": "RjynZKy8g8Iz",
        "colab_type": "code",
        "colab": {}
      },
      "source": [
        "def plot_hist(h, xsize=6, ysize=10):\n",
        "\n",
        "    fig_size = plt.rcParams[\"figure.figsize\"]\n",
        "    plt.rcParams[\"figure.figsize\"] = [xsize, ysize]\n",
        "    fig, axes = plt.subplots(nrows=1, ncols=1, sharex=True)\n",
        "    \n",
        "    # summarize history for Accuracy\n",
        "    plt.subplot(211)\n",
        "    plt.plot(h['accuracy'])\n",
        "    plt.plot(h['val_accuracy'])\n",
        "    plt.title('Training Performance')\n",
        "    plt.ylabel('Accuracy')\n",
        "    plt.xlabel('Epochs')\n",
        "    plt.legend(['Train', 'Validation'], loc='best')\n",
        "    \n",
        "    plt.draw()\n",
        "    plt.show()\n",
        "\n",
        "    return"
      ],
      "execution_count": 0,
      "outputs": []
    },
    {
      "cell_type": "code",
      "metadata": {
        "id": "0BPimEjZg8I0",
        "colab_type": "code",
        "colab": {}
      },
      "source": [
        ""
      ],
      "execution_count": 0,
      "outputs": []
    },
    {
      "cell_type": "code",
      "metadata": {
        "id": "M37RhiBRg8I2",
        "colab_type": "code",
        "outputId": "86c0c719-e729-46b8-e103-a80f95bd8c1d",
        "colab": {}
      },
      "source": [
        "plot_hist(history.history, xsize=8, ysize=12)"
      ],
      "execution_count": 0,
      "outputs": [
        {
          "output_type": "display_data",
          "data": {
            "image/png": "[encoded data removed]",
            "text/plain": [
              "<Figure size 576x864 with 1 Axes>"
            ]
          },
          "metadata": {
            "tags": [],
            "needs_background": "light"
          }
        }
      ]
    },
    {
      "cell_type": "markdown",
      "metadata": {
        "id": "1QnmghyFg8I3",
        "colab_type": "text"
      },
      "source": [
        "## Model Evaluation\n",
        "\n",
        "The evaluation of the model is done on the data that the model has not yet seen before in order to verify that the choice made\n",
        "after the validation process is right to be trusted in the prediction"
      ]
    },
    {
      "cell_type": "code",
      "metadata": {
        "id": "MiZSi6Nag8I3",
        "colab_type": "code",
        "colab": {}
      },
      "source": [
        "prediction_classes_test = model.predict_classes(X_test)"
      ],
      "execution_count": 0,
      "outputs": []
    },
    {
      "cell_type": "code",
      "metadata": {
        "id": "f-LgN-HBg8I5",
        "colab_type": "code",
        "colab": {}
      },
      "source": [
        ""
      ],
      "execution_count": 0,
      "outputs": []
    },
    {
      "cell_type": "code",
      "metadata": {
        "id": "KKj9w4U8g8I6",
        "colab_type": "code",
        "outputId": "4ec4dfa5-8f02-448a-e8a5-bd38ce50c3d1",
        "colab": {}
      },
      "source": [
        "confusion_matrix(np.argmax(Y_test,1), prediction_classes_test)"
      ],
      "execution_count": 0,
      "outputs": [
        {
          "output_type": "execute_result",
          "data": {
            "text/plain": [
              "array([[    0, 42308],\n",
              "       [    0, 45343]])"
            ]
          },
          "metadata": {
            "tags": []
          },
          "execution_count": 120
        }
      ]
    },
    {
      "cell_type": "code",
      "metadata": {
        "id": "YnK0Jq_jg8I8",
        "colab_type": "code",
        "colab": {}
      },
      "source": [
        ""
      ],
      "execution_count": 0,
      "outputs": []
    },
    {
      "cell_type": "code",
      "metadata": {
        "id": "xOnURnCXg8JB",
        "colab_type": "code",
        "outputId": "3f77ad1f-7c1e-4f79-e017-ae8cb6deb680",
        "colab": {}
      },
      "source": [
        "accuracy_score(np.argmax(Y_test,1), prediction_classes_test)"
      ],
      "execution_count": 0,
      "outputs": [
        {
          "output_type": "execute_result",
          "data": {
            "text/plain": [
              "0.5173129798861393"
            ]
          },
          "metadata": {
            "tags": []
          },
          "execution_count": 121
        }
      ]
    },
    {
      "cell_type": "code",
      "metadata": {
        "id": "X4VR879fg8JD",
        "colab_type": "code",
        "colab": {}
      },
      "source": [
        ""
      ],
      "execution_count": 0,
      "outputs": []
    }
  ]
}